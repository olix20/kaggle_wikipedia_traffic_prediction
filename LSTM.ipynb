{
 "cells": [
  {
   "cell_type": "code",
   "execution_count": 1,
   "metadata": {},
   "outputs": [
    {
     "name": "stderr",
     "output_type": "stream",
     "text": [
      "Using TensorFlow backend.\n"
     ]
    }
   ],
   "source": [
    "import numpy as np\n",
    "import pandas as pd\n",
    "from IPython.display import display, HTML\n",
    "import re\n",
    "from collections import Counter\n",
    "\n",
    "# from isoweek import Week\n",
    "from pandas_summary import DataFrameSummary\n",
    "import operator\n",
    "from matplotlib import pyplot as plt\n",
    "import pickle \n",
    "\n",
    "import multiprocessing as mp\n",
    "import datetime as dt\n",
    "from tqdm import tqdm_notebook\n",
    "import scipy.stats as st\n",
    "import scipy\n",
    "\n",
    "from sklearn_pandas import DataFrameMapper\n",
    "from sklearn.preprocessing import LabelEncoder, Imputer, StandardScaler\n",
    "from sklearn.model_selection import train_test_split\n",
    "\n",
    "import seaborn as sns\n",
    "\n",
    "import keras \n",
    "from keras.layers import Input,Dense,Dropout,Flatten,Embedding, merge,LSTM,TimeDistributed,Activation,Bidirectional\n",
    "from keras.models import Model, Sequential\n",
    "from keras import backend as K\n",
    "from keras.optimizers import SGD, RMSprop, Adam\n",
    "from keras.callbacks import ReduceLROnPlateau, EarlyStopping,ModelCheckpoint\n",
    "from keras.layers import BatchNormalization\n",
    "from keras.layers.merge import *\n",
    "\n",
    "%matplotlib inline"
   ]
  },
  {
   "cell_type": "markdown",
   "metadata": {},
   "source": [
    "### Load and preprocess data"
   ]
  },
  {
   "cell_type": "code",
   "execution_count": 3,
   "metadata": {},
   "outputs": [],
   "source": [
    "# def fill_nan_median(row,median=early_features_df.early_median):\n",
    "#     row_copy = row\n",
    "#     median = early_features_df.early_median[row.name]\n",
    "    \n",
    "#     row_copy.fillna(median,inplace=True)\n",
    "    \n",
    "#     return row_copy\n",
    "   "
   ]
  },
  {
   "cell_type": "code",
   "execution_count": 2,
   "metadata": {
    "collapsed": true
   },
   "outputs": [],
   "source": [
    "def winsorize_row(row,threshold=0.95,fillna=True):\n",
    "#     print (type(row))\n",
    "    row_copy = row\n",
    "    median =  row[1:].quantile(0.5)#np.median(row[1:])\n",
    "#     q95 = row[1:].quantile(threshold)\n",
    "    values =  row[1:]\n",
    "#     print (median,q95)\n",
    "    \n",
    "#     winsorized = pd.Series(st.mstats.winsorize( row[1:], limits=[0.05, 0.05]))\n",
    "    \n",
    "    \n",
    "    if  fillna:\n",
    "        if not np.isnan(median):\n",
    "            values.fillna(median, inplace=True)\n",
    "        else:\n",
    "            values.fillna(0, inplace=True)\n",
    "\n",
    "#     values[np.where(values>q95)[0]] = q95\n",
    "#     print (np.where(values>q95))\n",
    "    row_copy[1:] = values\n",
    "    return row_copy"
   ]
  },
  {
   "cell_type": "code",
   "execution_count": 174,
   "metadata": {
    "collapsed": true
   },
   "outputs": [],
   "source": [
    "def extract_num_features(row_early_window,threshold=0.95,fillna=True):\n",
    "    \n",
    "    \n",
    "    early_features = []\n",
    "    \n",
    "    ### early window \n",
    "\n",
    "    early_features.append(row_early_window.quantile(0.25))\n",
    "    early_features.append(row_early_window.quantile(0.50))\n",
    "    early_features.append(row_early_window.quantile(0.75))\n",
    "    early_features.append(row_early_window.quantile(0.95))\n",
    "    early_features.append(row_early_window.mean())\n",
    "    early_features.append(row_early_window.isnull().sum())\n",
    "    early_features.append(np.count_nonzero(np.where(row_early_window==0.)))\n",
    "    \n",
    "    \n",
    "    early_features = np.nan_to_num(np.array(early_features)).tolist()\n",
    "    \n",
    "    \n",
    "    \n",
    "    return early_features \n",
    "\n"
   ]
  },
  {
   "cell_type": "code",
   "execution_count": 4,
   "metadata": {
    "collapsed": true
   },
   "outputs": [],
   "source": [
    "dev = pd.read_csv('data/train_1.csv')"
   ]
  },
  {
   "cell_type": "code",
   "execution_count": 5,
   "metadata": {
    "collapsed": true
   },
   "outputs": [],
   "source": [
    "dev.fillna(0.0, inplace=True)"
   ]
  },
  {
   "cell_type": "code",
   "execution_count": 6,
   "metadata": {},
   "outputs": [
    {
     "data": {
      "text/plain": [
       "491"
      ]
     },
     "execution_count": 6,
     "metadata": {},
     "output_type": "execute_result"
    }
   ],
   "source": [
    "train_window_end = dev.shape[1]- 60 #- 10\n",
    "train_window_end"
   ]
  },
  {
   "cell_type": "code",
   "execution_count": 187,
   "metadata": {
    "collapsed": true
   },
   "outputs": [],
   "source": [
    "# early_features = dev.iloc[:,1:train_window_end].apply(extract_num_features,axis=1)\n",
    "\n",
    "# early_features_df = pd.DataFrame(early_features.values.tolist(),\n",
    "#              columns=[\"early_25\",\"early_median\",\"early_75\",\"early_95\",\"early_mean\",\"early_nan\", \"early_0s\"])\n",
    "\n",
    "# early_features_df.to_csv(\"data/cache/early_features_df.csv\",index=False)\n",
    "\n",
    "# early_features_df.early_mean.shape"
   ]
  },
  {
   "cell_type": "code",
   "execution_count": 229,
   "metadata": {
    "collapsed": true
   },
   "outputs": [],
   "source": [
    "#fill na\n",
    "# dev = dev.apply(fill_nan_median,axis=1)\n",
    "\n",
    "# dev.to_csv(\"data/cache/dev_nan_to_early_median.csv\",index=False)\n",
    "\n",
    "# dev.fillna(early_features_df.early_mean,axis=1)#not implemented .. \n",
    "\n",
    "# dev.fillna(0., inplace=True)"
   ]
  },
  {
   "cell_type": "code",
   "execution_count": 186,
   "metadata": {
    "scrolled": true
   },
   "outputs": [
    {
     "name": "stderr",
     "output_type": "stream",
     "text": [
      "/home/ubuntu/anaconda2/lib/python2.7/site-packages/ipykernel/__main__.py:10: FutureWarning: currently extract(expand=None) means expand=False (return Index/Series/DataFrame) but in a future version of pandas this will be changed to expand=True (return DataFrame)\n",
      "/home/ubuntu/anaconda2/lib/python2.7/site-packages/ipykernel/__main__.py:12: FutureWarning: currently extract(expand=None) means expand=False (return Index/Series/DataFrame) but in a future version of pandas this will be changed to expand=True (return DataFrame)\n"
     ]
    }
   ],
   "source": [
    "#cat features only overfit .. \n",
    "\n",
    "# page_details = dev.Page.str.extract(r'(?P<topic>.*)\\_(?P<lang>.*).wikipedia.org\\_(?P<access>.*)\\_(?P<type>.*)')\n",
    "\n",
    "\n",
    "# fixing nulls\n",
    "\n",
    "# pages_with_null = dev[page_details.topic.isnull()].iloc[:,:2]\n",
    "\n",
    "# null_topics = pages_with_null.Page.str.extract(r'(?P<topic>.*)\\_.+\\..*')\n",
    "\n",
    "# null_access_type = pages_with_null.Page.str.extract(r'.*\\_(?P<access>.*)\\_(?P<type>.*)')\n",
    "\n",
    "# page_details.lang[page_details.lang.isnull()]=\"na\"\n",
    "\n",
    "# page_details.topic[page_details.topic.isnull()]=null_topics.values\n",
    "\n",
    "# page_details.access[page_details.access.isnull()]=null_access_type.access.values\n",
    "\n",
    "# page_details.type[page_details.type.isnull()]=null_access_type.type.values"
   ]
  },
  {
   "cell_type": "markdown",
   "metadata": {},
   "source": [
    "### Train-test split"
   ]
  },
  {
   "cell_type": "code",
   "execution_count": 7,
   "metadata": {},
   "outputs": [
    {
     "name": "stdout",
     "output_type": "stream",
     "text": [
      "(1, 478, 489)\n"
     ]
    }
   ],
   "source": [
    "print (dev.columns.values.tolist().index('2015-07-01'),\n",
    "dev.columns.values.tolist().index('2016-10-20'), \n",
    "       dev.columns.values.tolist().index('2016-10-31'))"
   ]
  },
  {
   "cell_type": "code",
   "execution_count": 8,
   "metadata": {},
   "outputs": [
    {
     "data": {
      "text/plain": [
       "551"
      ]
     },
     "execution_count": 8,
     "metadata": {},
     "output_type": "execute_result"
    }
   ],
   "source": [
    "dev.shape[1]"
   ]
  },
  {
   "cell_type": "code",
   "execution_count": 12,
   "metadata": {
    "collapsed": true
   },
   "outputs": [],
   "source": [
    "del offset"
   ]
  },
  {
   "cell_type": "code",
   "execution_count": 13,
   "metadata": {},
   "outputs": [],
   "source": [
    "train = dev[['Page']+list(dev.columns[1:train_window_end])]\n",
    "\n",
    "# train = train.apply(winsorize_row,axis=1)\n",
    "# train.to_csv(\"data/cache/train_nantomedian.csv\",index=False)"
   ]
  },
  {
   "cell_type": "code",
   "execution_count": 14,
   "metadata": {},
   "outputs": [
    {
     "data": {
      "text/html": [
       "<div>\n",
       "<style>\n",
       "    .dataframe thead tr:only-child th {\n",
       "        text-align: right;\n",
       "    }\n",
       "\n",
       "    .dataframe thead th {\n",
       "        text-align: left;\n",
       "    }\n",
       "\n",
       "    .dataframe tbody tr th {\n",
       "        vertical-align: top;\n",
       "    }\n",
       "</style>\n",
       "<table border=\"1\" class=\"dataframe\">\n",
       "  <thead>\n",
       "    <tr style=\"text-align: right;\">\n",
       "      <th></th>\n",
       "      <th>Page</th>\n",
       "      <th>2015-07-01</th>\n",
       "      <th>2015-07-02</th>\n",
       "      <th>2015-07-03</th>\n",
       "      <th>2015-07-04</th>\n",
       "      <th>2015-07-05</th>\n",
       "      <th>2015-07-06</th>\n",
       "      <th>2015-07-07</th>\n",
       "      <th>2015-07-08</th>\n",
       "      <th>2015-07-09</th>\n",
       "      <th>...</th>\n",
       "      <th>2016-10-23</th>\n",
       "      <th>2016-10-24</th>\n",
       "      <th>2016-10-25</th>\n",
       "      <th>2016-10-26</th>\n",
       "      <th>2016-10-27</th>\n",
       "      <th>2016-10-28</th>\n",
       "      <th>2016-10-29</th>\n",
       "      <th>2016-10-30</th>\n",
       "      <th>2016-10-31</th>\n",
       "      <th>2016-11-01</th>\n",
       "    </tr>\n",
       "  </thead>\n",
       "  <tbody>\n",
       "    <tr>\n",
       "      <th>145061</th>\n",
       "      <td>Hasta_el_último_hombre_es.wikipedia.org_all-ac...</td>\n",
       "      <td>0.0</td>\n",
       "      <td>0.0</td>\n",
       "      <td>0.0</td>\n",
       "      <td>0.0</td>\n",
       "      <td>0.0</td>\n",
       "      <td>0.0</td>\n",
       "      <td>0.0</td>\n",
       "      <td>0.0</td>\n",
       "      <td>0.0</td>\n",
       "      <td>...</td>\n",
       "      <td>0.0</td>\n",
       "      <td>0.0</td>\n",
       "      <td>0.0</td>\n",
       "      <td>0.0</td>\n",
       "      <td>0.0</td>\n",
       "      <td>0.0</td>\n",
       "      <td>0.0</td>\n",
       "      <td>0.0</td>\n",
       "      <td>0.0</td>\n",
       "      <td>0.0</td>\n",
       "    </tr>\n",
       "    <tr>\n",
       "      <th>145062</th>\n",
       "      <td>Francisco_el_matemático_(serie_de_televisión_d...</td>\n",
       "      <td>0.0</td>\n",
       "      <td>0.0</td>\n",
       "      <td>0.0</td>\n",
       "      <td>0.0</td>\n",
       "      <td>0.0</td>\n",
       "      <td>0.0</td>\n",
       "      <td>0.0</td>\n",
       "      <td>0.0</td>\n",
       "      <td>0.0</td>\n",
       "      <td>...</td>\n",
       "      <td>0.0</td>\n",
       "      <td>0.0</td>\n",
       "      <td>0.0</td>\n",
       "      <td>0.0</td>\n",
       "      <td>0.0</td>\n",
       "      <td>0.0</td>\n",
       "      <td>0.0</td>\n",
       "      <td>0.0</td>\n",
       "      <td>0.0</td>\n",
       "      <td>0.0</td>\n",
       "    </tr>\n",
       "  </tbody>\n",
       "</table>\n",
       "<p>2 rows × 491 columns</p>\n",
       "</div>"
      ],
      "text/plain": [
       "                                                     Page  2015-07-01  \\\n",
       "145061  Hasta_el_último_hombre_es.wikipedia.org_all-ac...         0.0   \n",
       "145062  Francisco_el_matemático_(serie_de_televisión_d...         0.0   \n",
       "\n",
       "        2015-07-02  2015-07-03  2015-07-04  2015-07-05  2015-07-06  \\\n",
       "145061         0.0         0.0         0.0         0.0         0.0   \n",
       "145062         0.0         0.0         0.0         0.0         0.0   \n",
       "\n",
       "        2015-07-07  2015-07-08  2015-07-09     ...      2016-10-23  \\\n",
       "145061         0.0         0.0         0.0     ...             0.0   \n",
       "145062         0.0         0.0         0.0     ...             0.0   \n",
       "\n",
       "        2016-10-24  2016-10-25  2016-10-26  2016-10-27  2016-10-28  \\\n",
       "145061         0.0         0.0         0.0         0.0         0.0   \n",
       "145062         0.0         0.0         0.0         0.0         0.0   \n",
       "\n",
       "        2016-10-29  2016-10-30  2016-10-31  2016-11-01  \n",
       "145061         0.0         0.0         0.0         0.0  \n",
       "145062         0.0         0.0         0.0         0.0  \n",
       "\n",
       "[2 rows x 491 columns]"
      ]
     },
     "execution_count": 14,
     "metadata": {},
     "output_type": "execute_result"
    }
   ],
   "source": [
    "train.tail(2)"
   ]
  },
  {
   "cell_type": "code",
   "execution_count": 15,
   "metadata": {},
   "outputs": [
    {
     "data": {
      "text/plain": [
       "((145063, 491), (145063, 61))"
      ]
     },
     "execution_count": 15,
     "metadata": {},
     "output_type": "execute_result"
    }
   ],
   "source": [
    "holdout = dev[['Page']+list(dev.columns[train_window_end:])]\n",
    "\n",
    "#dev[['Page']+list(dev.columns[train_window_end+10:])] #excluding the 10 day gap\n",
    "\n",
    "# holdout = holdout.apply(winsorize_row,axis=1)\n",
    "\n",
    "# holdout.to_csv(\"data/cache/holdout_nantomedian.csv\",index=False)\n",
    "\n",
    "train.shape,holdout.shape"
   ]
  },
  {
   "cell_type": "code",
   "execution_count": 16,
   "metadata": {},
   "outputs": [
    {
     "data": {
      "text/plain": [
       "array([ 76273,  98713,  23152, 134300, 101000,   5420, 101157, 124244,\n",
       "        47033, 128066,  43026, 138521,  68718, 101233,  46711,  77046,\n",
       "        32988,  60013,  26117,  59942])"
      ]
     },
     "execution_count": 16,
     "metadata": {},
     "output_type": "execute_result"
    }
   ],
   "source": [
    "t_index = np.arange(dev.shape[0])\n",
    "np.random.seed(19)\n",
    "np.random.shuffle(t_index)\n",
    "t_index[0:20]"
   ]
  },
  {
   "cell_type": "code",
   "execution_count": 225,
   "metadata": {
    "collapsed": true
   },
   "outputs": [],
   "source": [
    "ix_train  = t_index[:int(0.8*len(t_index))]\n",
    "ix_valid  = t_index[int(0.8*len(t_index)):]\n",
    "\n",
    "X_train = np.log1p(train.iloc[ix_train,1:].values)\n",
    "X_valid = np.log1p(train.iloc[ix_valid,1:].values)\n",
    "\n",
    "\n",
    "#reshaping into 3d for LSTM\n",
    "X_train = X_train.reshape((-1,1,X_train.shape[1]))\n",
    "X_valid = X_valid.reshape((-1,1,X_valid.shape[1]))"
   ]
  },
  {
   "cell_type": "code",
   "execution_count": 226,
   "metadata": {
    "collapsed": true
   },
   "outputs": [],
   "source": [
    "# Y_train = np.log1p(np.median(holdout.iloc[ix_train,1:].values,axis=1))\n",
    "# Y_valid = np.log1p(np.median(holdout.iloc[ix_valid,1:].values,axis=1))"
   ]
  },
  {
   "cell_type": "code",
   "execution_count": 227,
   "metadata": {
    "collapsed": true
   },
   "outputs": [],
   "source": [
    "# Y_train = np.log1p(holdout.iloc[ix_train,1:].values)\n",
    "# Y_valid = np.log1p(holdout.iloc[ix_valid,1:].values)\n",
    "\n",
    "# median_target_train = np.median(Y_train,axis=1)#np.array([np.mean(Y_train)])\n",
    "# median_target_valid = np.median(Y_valid,axis=1)"
   ]
  },
  {
   "cell_type": "code",
   "execution_count": 228,
   "metadata": {
    "collapsed": true
   },
   "outputs": [],
   "source": [
    "Y_train = np.log1p(holdout.iloc[ix_train,1:].values)\n",
    "Y_valid = np.log1p(holdout.iloc[ix_valid,1:].values)\n",
    "\n",
    "Y_train = np.median(Y_train,axis=1)#np.array([np.mean(Y_train)])\n",
    "Y_valid = np.median(Y_valid,axis=1)"
   ]
  },
  {
   "cell_type": "code",
   "execution_count": 413,
   "metadata": {
    "collapsed": true
   },
   "outputs": [],
   "source": [
    "# max_log_y = np.max(np.median(np.log1p(dev.iloc[:,1:].values),axis=1))\n",
    "\n",
    "\n",
    "# max_log_y\n",
    "\n",
    "\n",
    "# Y_train = Y_train/max_log_y\n",
    "# Y_valid = Y_valid/max_log_y"
   ]
  },
  {
   "cell_type": "code",
   "execution_count": 414,
   "metadata": {
    "collapsed": true
   },
   "outputs": [],
   "source": [
    "# X_sample= X_train[:X_train.shape[0]//2]\n",
    "# Y_sample= Y_train[:X_train.shape[0]//2]"
   ]
  },
  {
   "cell_type": "code",
   "execution_count": 415,
   "metadata": {},
   "outputs": [
    {
     "data": {
      "text/plain": [
       "((116050, 1, 490), (29013, 1, 490), (116050,), (29013,))"
      ]
     },
     "execution_count": 415,
     "metadata": {},
     "output_type": "execute_result"
    }
   ],
   "source": [
    "X_train.shape,X_valid.shape, Y_train.shape, Y_valid.shape"
   ]
  },
  {
   "cell_type": "markdown",
   "metadata": {},
   "source": [
    "### Alternative features"
   ]
  },
  {
   "cell_type": "code",
   "execution_count": 188,
   "metadata": {
    "collapsed": true
   },
   "outputs": [],
   "source": [
    "def inverse_log1p (arr): return np.rint(np.expm1(arr))\n",
    "def split_cols(arr): return np.hsplit(arr,arr.shape[1])\n",
    "def cat_map_info(feat): return feat[0], len(feat[1].classes_)\n",
    "def cat_preproc(dat):\n",
    "    return cat_map_fit.transform(dat).astype(np.int64)"
   ]
  },
  {
   "cell_type": "code",
   "execution_count": 189,
   "metadata": {
    "collapsed": true
   },
   "outputs": [],
   "source": [
    "cat_var_dict = {'lang':6} #'topic': 200,'access':3, 'type':3\n",
    "cat_vars = [o[0] for o in \n",
    "            sorted(cat_var_dict.items(), key=operator.itemgetter(1), reverse=True)]"
   ]
  },
  {
   "cell_type": "code",
   "execution_count": 190,
   "metadata": {},
   "outputs": [
    {
     "data": {
      "text/plain": [
       "[('lang', LabelEncoder())]"
      ]
     },
     "execution_count": 190,
     "metadata": {},
     "output_type": "execute_result"
    }
   ],
   "source": [
    "cat_maps = [(o, LabelEncoder()) for o in cat_vars]\n",
    "cat_maps"
   ]
  },
  {
   "cell_type": "code",
   "execution_count": 191,
   "metadata": {},
   "outputs": [],
   "source": [
    "# cat_map_train,cat_map_valid,cat_mapper,cat_map_fit = pickle.load(open(\"data/cache/cat_map_tmp.pickle\",\"rb\"))\n",
    "cat_mapper = DataFrameMapper(cat_maps)\n",
    "cat_map_fit = cat_mapper.fit(page_details)\n",
    "cat_cols = len(cat_map_fit.features)\n"
   ]
  },
  {
   "cell_type": "code",
   "execution_count": 192,
   "metadata": {
    "collapsed": true
   },
   "outputs": [],
   "source": [
    "# cat_map_fit.features[3][1].classes_[-10:]"
   ]
  },
  {
   "cell_type": "code",
   "execution_count": 193,
   "metadata": {},
   "outputs": [
    {
     "data": {
      "text/plain": [
       "[8]"
      ]
     },
     "execution_count": 193,
     "metadata": {},
     "output_type": "execute_result"
    }
   ],
   "source": [
    "[len(o[1].classes_) for o in cat_map_fit.features]\n"
   ]
  },
  {
   "cell_type": "code",
   "execution_count": 194,
   "metadata": {
    "collapsed": true
   },
   "outputs": [],
   "source": [
    "cat_map_train = cat_preproc(page_details.iloc[ix_train])\n",
    "cat_map_valid = cat_preproc(page_details.iloc[ix_valid])\n",
    "cat_map_test = cat_preproc(page_details)\n"
   ]
  },
  {
   "cell_type": "code",
   "execution_count": 195,
   "metadata": {},
   "outputs": [
    {
     "data": {
      "text/plain": [
       "array([7])"
      ]
     },
     "execution_count": 195,
     "metadata": {},
     "output_type": "execute_result"
    }
   ],
   "source": [
    "cat_map_test[10]"
   ]
  },
  {
   "cell_type": "code",
   "execution_count": 262,
   "metadata": {
    "collapsed": true
   },
   "outputs": [],
   "source": [
    "# pickle.dump([cat_map_train,cat_map_valid,cat_mapper,cat_map_fit],open(\"data/cache/cat_map_tmp.pickle\",\"wb\"))"
   ]
  },
  {
   "cell_type": "code",
   "execution_count": 263,
   "metadata": {
    "collapsed": true
   },
   "outputs": [],
   "source": [
    "map_train = split_cols(cat_map_train) + [X_train]\n",
    "map_valid = split_cols(cat_map_valid) + [X_valid]\n"
   ]
  },
  {
   "cell_type": "markdown",
   "metadata": {},
   "source": [
    "### Numerical features\n"
   ]
  },
  {
   "cell_type": "markdown",
   "metadata": {},
   "source": [
    "- diffferent widnows \n",
    "- median, mean, std, min,max for each window \n",
    "\n"
   ]
  },
  {
   "cell_type": "code",
   "execution_count": 33,
   "metadata": {
    "collapsed": true
   },
   "outputs": [],
   "source": [
    "# raw_train = pd.read_csv('data/train_1.csv')\n",
    "\n",
    "# raw_train = raw_train.apply(winsorize_row,fillna=False,axis=1)\n",
    "\n",
    "\n",
    "# raw_train = pd.read_csv(\"data/cache/raw_train_winsorized_with_na.csv\")"
   ]
  },
  {
   "cell_type": "code",
   "execution_count": 28,
   "metadata": {},
   "outputs": [
    {
     "data": {
      "text/plain": [
       "(145063, 491)"
      ]
     },
     "execution_count": 28,
     "metadata": {},
     "output_type": "execute_result"
    }
   ],
   "source": [
    "# raw_train_early_window = dev[['Page']+list(raw_train.columns[1:(raw_train.shape[1]- 60 - 10)])]\n",
    "raw_train_early_window = dev[['Page']+list(dev.columns[1:(dev.shape[1]- 60)])]\n",
    "raw_train_early_window.shape"
   ]
  },
  {
   "cell_type": "code",
   "execution_count": 29,
   "metadata": {
    "collapsed": true
   },
   "outputs": [],
   "source": [
    "def get_window_features(row):\n",
    "\n",
    "    Windows = [6, 12, 18, 30, 48, 78, 126, 203, 329]\n",
    "    Visits = 0\n",
    "    \n",
    "    n = len(row) - 1#train.shape[1] - 1 #  550\n",
    "#     Visits = np.zeros(train.shape[0])\n",
    "#     for i, row in train.iterrows():\n",
    "    M = []\n",
    "    start = row[1:].nonzero()[0]\n",
    "    if len(start) == 0:\n",
    "        return 0\n",
    "        \n",
    "    if n - start[0] < Windows[0]:\n",
    "        Visits = row.iloc[start[0]+1:].median()\n",
    "        return Visits\n",
    "        \n",
    "    for W in Windows:\n",
    "        if W > n-start[0]:\n",
    "            break\n",
    "            \n",
    "        M.append(row.iloc[-W:].median())\n",
    "        \n",
    "    Visits = np.median(M)\n",
    "\n",
    "#     Visits[np.where(Visits < 1)] = 0.\n",
    "    # train['Visits'] = Visits\n",
    "    return Visits"
   ]
  },
  {
   "cell_type": "code",
   "execution_count": 30,
   "metadata": {},
   "outputs": [
    {
     "name": "stderr",
     "output_type": "stream",
     "text": [
      "/home/ubuntu/anaconda2/lib/python2.7/site-packages/ipykernel/__main__.py:1: SettingWithCopyWarning: \n",
      "A value is trying to be set on a copy of a slice from a DataFrame.\n",
      "Try using .loc[row_indexer,col_indexer] = value instead\n",
      "\n",
      "See the caveats in the documentation: http://pandas.pydata.org/pandas-docs/stable/indexing.html#indexing-view-versus-copy\n",
      "  if __name__ == '__main__':\n"
     ]
    }
   ],
   "source": [
    "raw_train_early_window[\"Median_of_Medians\"]  = raw_train_early_window.apply(get_window_features,axis=1)\n",
    "# raw_train_early_window[\"Median_of_Medians\"] = raw_train_early_window.fillna(0).apply(get_window_features,axis=1)\n",
    "\n",
    "# raw_train_early_window[\"num_nulls\"] = raw_train_early_window.isnull().sum(axis=1)\n",
    "\n",
    "# raw_train_early_window[\"num_zeros\"] = raw_train_early_window.apply(\n",
    "#     lambda x: np.count_nonzero(np.where(x[1:-2].values==0.)), axis=1)"
   ]
  },
  {
   "cell_type": "code",
   "execution_count": null,
   "metadata": {
    "collapsed": true
   },
   "outputs": [],
   "source": []
  },
  {
   "cell_type": "code",
   "execution_count": 217,
   "metadata": {
    "collapsed": true
   },
   "outputs": [],
   "source": [
    "# raw_train_early_window.drop([\"num_zeros\",\"num_nunzeros\"],axis=1,inplace=True)"
   ]
  },
  {
   "cell_type": "code",
   "execution_count": 41,
   "metadata": {
    "collapsed": true
   },
   "outputs": [],
   "source": [
    "# raw_train_early_window[[\"Page\",\"num_zeros\",\"num_nulls\",\"Median_of_Medians\"]].to_csv(\"data/cache/Continx4.csv\",index=False)"
   ]
  },
  {
   "cell_type": "code",
   "execution_count": 35,
   "metadata": {
    "collapsed": true
   },
   "outputs": [],
   "source": [
    "# contin_features = pd.read_csv(\"data/cache/Continx4.csv\")"
   ]
  },
  {
   "cell_type": "code",
   "execution_count": 36,
   "metadata": {
    "collapsed": true
   },
   "outputs": [],
   "source": [
    "# raw_train_early_window = pd.concat([raw_train_early_window,contin_features],axis=1)"
   ]
  },
  {
   "cell_type": "code",
   "execution_count": 19,
   "metadata": {
    "collapsed": true
   },
   "outputs": [],
   "source": [
    "raw_train_early_window = pd.read_csv(\"data/cache/Continx1_mom_train.csv\")\n"
   ]
  },
  {
   "cell_type": "code",
   "execution_count": 20,
   "metadata": {
    "collapsed": true
   },
   "outputs": [],
   "source": [
    "raw_train_early_window.drop([\"Page\"],axis=1,inplace=True)"
   ]
  },
  {
   "cell_type": "code",
   "execution_count": 468,
   "metadata": {
    "collapsed": true
   },
   "outputs": [],
   "source": [
    "num_features_early = pd.concat([raw_train_early_window,early_features_df],axis=1)"
   ]
  },
  {
   "cell_type": "code",
   "execution_count": 469,
   "metadata": {},
   "outputs": [
    {
     "data": {
      "text/plain": [
       "['Median_of_Medians',\n",
       " 'early_25',\n",
       " 'early_median',\n",
       " 'early_75',\n",
       " 'early_95',\n",
       " 'early_mean',\n",
       " 'early_nan',\n",
       " 'early_0s']"
      ]
     },
     "execution_count": 469,
     "metadata": {},
     "output_type": "execute_result"
    }
   ],
   "source": [
    "num_features_early.columns.values.tolist()"
   ]
  },
  {
   "cell_type": "code",
   "execution_count": 21,
   "metadata": {
    "collapsed": true
   },
   "outputs": [],
   "source": [
    "contin_vars = ['Median_of_Medians']#,'early_median']#'Median_of_Medians']#,\"num_nulls\",\"num_zeros\"]\n",
    "contin_maps = [([o], StandardScaler()) for o in contin_vars]\n"
   ]
  },
  {
   "cell_type": "code",
   "execution_count": 22,
   "metadata": {},
   "outputs": [
    {
     "data": {
      "text/plain": [
       "1"
      ]
     },
     "execution_count": 22,
     "metadata": {},
     "output_type": "execute_result"
    }
   ],
   "source": [
    "contin_mapper = DataFrameMapper(contin_maps)\n",
    "contin_map_fit = contin_mapper.fit(raw_train_early_window)\n",
    "contin_cols = len(contin_map_fit.features)\n",
    "contin_cols"
   ]
  },
  {
   "cell_type": "code",
   "execution_count": 23,
   "metadata": {},
   "outputs": [
    {
     "ename": "NameError",
     "evalue": "name 'num_features_early' is not defined",
     "output_type": "error",
     "traceback": [
      "\u001b[0;31m---------------------------------------------------------------------------\u001b[0m",
      "\u001b[0;31mNameError\u001b[0m                                 Traceback (most recent call last)",
      "\u001b[0;32m<ipython-input-23-a5bae2eeb356>\u001b[0m in \u001b[0;36m<module>\u001b[0;34m()\u001b[0m\n\u001b[0;32m----> 1\u001b[0;31m \u001b[0mnum_features_early\u001b[0m\u001b[0;34m.\u001b[0m\u001b[0mtail\u001b[0m\u001b[0;34m(\u001b[0m\u001b[0;36m5\u001b[0m\u001b[0;34m)\u001b[0m\u001b[0;34m\u001b[0m\u001b[0m\n\u001b[0m",
      "\u001b[0;31mNameError\u001b[0m: name 'num_features_early' is not defined"
     ]
    }
   ],
   "source": [
    "num_features_early.tail(5)"
   ]
  },
  {
   "cell_type": "code",
   "execution_count": 495,
   "metadata": {
    "collapsed": true
   },
   "outputs": [],
   "source": [
    "# contin_map_fit.transform(num_features_early)[0:2]\n"
   ]
  },
  {
   "cell_type": "code",
   "execution_count": 496,
   "metadata": {
    "collapsed": true
   },
   "outputs": [],
   "source": [
    "# raw_train_early_window[[\"Page\",\"Median_of_Medians\"]].to_csv(\"data/cache/Continx1_mom_train.csv\",index=False)"
   ]
  },
  {
   "cell_type": "code",
   "execution_count": 24,
   "metadata": {
    "collapsed": true
   },
   "outputs": [],
   "source": [
    "def contin_preproc(dat):\n",
    "    return contin_map_fit.transform(dat).astype(np.float32)"
   ]
  },
  {
   "cell_type": "code",
   "execution_count": 26,
   "metadata": {
    "collapsed": true
   },
   "outputs": [],
   "source": [
    "contin_map_train = contin_preproc(raw_train_early_window.iloc[ix_train])\n",
    "contin_map_valid = contin_preproc(raw_train_early_window.iloc[ix_valid])\n"
   ]
  },
  {
   "cell_type": "code",
   "execution_count": 27,
   "metadata": {},
   "outputs": [
    {
     "data": {
      "text/plain": [
       "(116050, 1)"
      ]
     },
     "execution_count": 27,
     "metadata": {},
     "output_type": "execute_result"
    }
   ],
   "source": [
    "contin_map_train.shape"
   ]
  },
  {
   "cell_type": "code",
   "execution_count": 196,
   "metadata": {
    "collapsed": true
   },
   "outputs": [],
   "source": [
    "map_train = split_cols(cat_map_train) + [contin_map_train] + [X_train]\n",
    "map_valid = split_cols(cat_map_valid) + [contin_map_valid] + [X_valid]\n",
    "# map_train =[contin_map_train] + [X_train]\n",
    "# map_valid =[contin_map_valid] + [X_valid]"
   ]
  },
  {
   "cell_type": "code",
   "execution_count": 197,
   "metadata": {
    "scrolled": true
   },
   "outputs": [
    {
     "data": {
      "text/plain": [
       "3"
      ]
     },
     "execution_count": 197,
     "metadata": {},
     "output_type": "execute_result"
    }
   ],
   "source": [
    "len(map_train)\n"
   ]
  },
  {
   "cell_type": "code",
   "execution_count": 502,
   "metadata": {
    "collapsed": true
   },
   "outputs": [],
   "source": [
    "pickle.dump([contin_map_train,contin_map_valid,contin_mapper,contin_map_fit],open(\"data/cache/contin_map_tmp_x8.pickle\",\"wb\"))"
   ]
  },
  {
   "cell_type": "code",
   "execution_count": 75,
   "metadata": {
    "collapsed": true
   },
   "outputs": [],
   "source": [
    "# contin_map_train,contin_map_valid,contin_mapper,contin_map_fit = pickle.load(open(\"data/cache/contin_map_tmp.pickle\",\"rb\"))"
   ]
  },
  {
   "cell_type": "code",
   "execution_count": 350,
   "metadata": {
    "collapsed": true
   },
   "outputs": [],
   "source": [
    "import xgboost as xgb"
   ]
  },
  {
   "cell_type": "code",
   "execution_count": 375,
   "metadata": {
    "collapsed": true
   },
   "outputs": [],
   "source": [
    "num_folds = 5\n",
    "xgb_params = {\n",
    " 'eval_metric': 'logloss',\n",
    " 'learning_rate': 0.25,#8244194429306306,\n",
    " 'max_depth': 5,\n",
    " 'n_estimators': 500,\n",
    " 'objective': 'reg:linear',\n",
    "'nthread':4,'silent':1}\n"
   ]
  },
  {
   "cell_type": "code",
   "execution_count": 376,
   "metadata": {
    "collapsed": true,
    "scrolled": true
   },
   "outputs": [],
   "source": [
    "d_train = xgb.DMatrix(contin_map_train,label= Y_train)#, weight=weight_train)\n",
    "d_valid = xgb.DMatrix(contin_map_valid,label= Y_valid)#,weight=weight_val)\n",
    "\n"
   ]
  },
  {
   "cell_type": "code",
   "execution_count": 377,
   "metadata": {},
   "outputs": [
    {
     "name": "stdout",
     "output_type": "stream",
     "text": [
      "[0]\ttrain-logloss:-131.167\tvalid-logloss:-130.113\n",
      "Multiple eval metrics have been passed: 'valid-logloss' will be used for early stopping.\n",
      "\n",
      "Will train until valid-logloss hasn't improved in 50 rounds.\n",
      "[10]\ttrain-logloss:-137.091\tvalid-logloss:-136.332\n",
      "[20]\ttrain-logloss:-137.107\tvalid-logloss:-136.37\n",
      "[30]\ttrain-logloss:-137.114\tvalid-logloss:-136.373\n",
      "[40]\ttrain-logloss:-137.129\tvalid-logloss:-136.384\n",
      "[50]\ttrain-logloss:-137.134\tvalid-logloss:-136.38\n",
      "[60]\ttrain-logloss:-137.143\tvalid-logloss:-136.384\n",
      "[70]\ttrain-logloss:-137.149\tvalid-logloss:-136.378\n",
      "[80]\ttrain-logloss:-137.155\tvalid-logloss:-136.376\n",
      "[90]\ttrain-logloss:-137.157\tvalid-logloss:-136.371\n",
      "[100]\ttrain-logloss:-137.163\tvalid-logloss:-136.373\n",
      "[110]\ttrain-logloss:-137.163\tvalid-logloss:-136.375\n",
      "Stopping. Best iteration:\n",
      "[69]\ttrain-logloss:-137.146\tvalid-logloss:-136.387\n",
      "\n"
     ]
    }
   ],
   "source": [
    "watchlist = [(d_train, 'train'), (d_valid, 'valid')]\n",
    "bst = xgb.train(xgb_params, d_train, 10000,  watchlist, early_stopping_rounds=50, verbose_eval=10)#,feval=kapp"
   ]
  },
  {
   "cell_type": "markdown",
   "metadata": {},
   "source": [
    "### Create Model"
   ]
  },
  {
   "cell_type": "code",
   "execution_count": 198,
   "metadata": {
    "collapsed": true
   },
   "outputs": [],
   "source": [
    "\n",
    "def smape_keras(y_true, y_pred):\n",
    "    denominator = (K.abs(y_true) + K.abs(y_pred) ) / 200.0 + K.epsilon()\n",
    "    diff = K.abs(y_true - y_pred) / denominator\n",
    "#     diff[denominator == 0] = 0.0\n",
    "    return K.mean(diff)\n",
    "\n",
    "def smape(y_true, y_pred):\n",
    "    denominator = (np.abs(y_true) + np.abs(y_pred)) / 2.0\n",
    "    diff = np.abs(y_true - y_pred) / denominator\n",
    "    diff[denominator == 0] = 0.0\n",
    "    return np.mean(diff)\n"
   ]
  },
  {
   "cell_type": "code",
   "execution_count": 31,
   "metadata": {
    "collapsed": true
   },
   "outputs": [],
   "source": [
    "batch_size = 128"
   ]
  },
  {
   "cell_type": "code",
   "execution_count": 243,
   "metadata": {
    "collapsed": true
   },
   "outputs": [],
   "source": [
    "# create and fit the LSTM network\n",
    "\n",
    "hidden_size = 512 \n",
    "drop_out = 0.2\n",
    "\n",
    "model = Sequential()\n",
    "# model.add(Bidirectional(LSTM(hidden_size,  return_sequences=True, \n",
    "#                dropout=drop_out, recurrent_dropout=drop_out),input_shape=( 1,X_train.shape[2],)))\n",
    "\n",
    "model.add(LSTM(hidden_size,  return_sequences=True, \n",
    "               dropout=drop_out, recurrent_dropout=drop_out,input_shape=( 1,X_train.shape[2],)))\n",
    "# model.add(LSTM(hidden_size,  return_sequences=True, \n",
    "#                dropout=drop_out, recurrent_dropout=drop_out))\n",
    "\n",
    "\n",
    "model.add(TimeDistributed(Dense(hidden_size,activation='relu')))\n",
    "# model.add(Activation('relu'))\n",
    "model.add(Flatten())\n",
    "\n",
    "# model.add(BatchNormalization())\n",
    "# model.add(Dropout(0.2))\n",
    "# model.add(Dense(hidden_size//2, activation='relu'))\n",
    "# model.add(Dropout(drop_out))\n",
    "\n",
    "# model.add(Dense(Y_train.shape[1]))\n",
    "model.add(Dense(1))\n",
    "model.add(Activation('relu'))\n",
    "\n",
    "\n"
   ]
  },
  {
   "cell_type": "code",
   "execution_count": 244,
   "metadata": {},
   "outputs": [
    {
     "name": "stdout",
     "output_type": "stream",
     "text": [
      "_________________________________________________________________\n",
      "Layer (type)                 Output Shape              Param #   \n",
      "=================================================================\n",
      "lstm_8 (LSTM)                (None, 1, 512)            2054144   \n",
      "_________________________________________________________________\n",
      "lstm_9 (LSTM)                (None, 1, 512)            2099200   \n",
      "_________________________________________________________________\n",
      "time_distributed_7 (TimeDist (None, 1, 512)            262656    \n",
      "_________________________________________________________________\n",
      "flatten_7 (Flatten)          (None, 512)               0         \n",
      "_________________________________________________________________\n",
      "dense_12 (Dense)             (None, 1)                 513       \n",
      "_________________________________________________________________\n",
      "activation_6 (Activation)    (None, 1)                 0         \n",
      "=================================================================\n",
      "Total params: 4,416,513\n",
      "Trainable params: 4,416,513\n",
      "Non-trainable params: 0\n",
      "_________________________________________________________________\n"
     ]
    }
   ],
   "source": [
    "model.compile(loss='mean_squared_error', optimizer=Adam(lr=1e-3)) #loss='mean_squared_error'\n",
    "model.summary()"
   ]
  },
  {
   "cell_type": "code",
   "execution_count": 245,
   "metadata": {
    "collapsed": true
   },
   "outputs": [],
   "source": [
    "\n",
    "\n",
    "# MODEL_WEIGHTS_FILE = 'weights/512lstm_{epoch:02d}_val_loss_{val_loss:.2f}.h5'\n",
    "MODEL_WEIGHTS_FILE = 'weights/LSTMx2_{}_drp{}_mse_nogap_nanto0_notwinsorized_predict_median_fixed.h5'.format(hidden_size,drop_out)\n",
    "\n",
    "callbacks = [ModelCheckpoint(MODEL_WEIGHTS_FILE, monitor='val_loss', save_best_only=True),\n",
    "            EarlyStopping(monitor='val_loss', patience=5),\n",
    "            ReduceLROnPlateau(monitor='val_loss',  patience=3, verbose=1, factor=0.1, min_lr=1e-5)]\n"
   ]
  },
  {
   "cell_type": "code",
   "execution_count": 246,
   "metadata": {},
   "outputs": [
    {
     "data": {
      "text/plain": [
       "'weights/LSTMx2_512_drp0.2_mse_nogap_nanto0_notwinsorized_predict_median.h5'"
      ]
     },
     "execution_count": 246,
     "metadata": {},
     "output_type": "execute_result"
    }
   ],
   "source": [
    "MODEL_WEIGHTS_FILE"
   ]
  },
  {
   "cell_type": "markdown",
   "metadata": {},
   "source": [
    "Scores:\n",
    "\n",
    "- LSTM_512_drp0.2_nanto0_notwinsorized_mse val_loss: 0.6152\n",
    "- LSTM_512_drp0.2_nantomedian_notwinsorized val_loss: 1.2136\n",
    "- LSTM_512_drp0.2_nogap_nanto0_notwinsorized: Maximum loss at epoch 33 = 1.0323\n",
    "\n",
    "- LSTM_512_drp0.2_smape_nogap_nanto0_notwinsorized: epoch 27 = 36.4746"
   ]
  },
  {
   "cell_type": "code",
   "execution_count": 247,
   "metadata": {
    "scrolled": true
   },
   "outputs": [
    {
     "name": "stdout",
     "output_type": "stream",
     "text": [
      "Train on 116050 samples, validate on 29013 samples\n",
      "Epoch 1/100\n",
      "116050/116050 [==============================] - 21s - loss: 1.1521 - val_loss: 1.3183\n",
      "Epoch 2/100\n",
      "116050/116050 [==============================] - 19s - loss: 0.8002 - val_loss: 0.5584\n",
      "Epoch 3/100\n",
      "116050/116050 [==============================] - 18s - loss: 0.6886 - val_loss: 1.0858\n",
      "Epoch 4/100\n",
      "116050/116050 [==============================] - 19s - loss: 0.6456 - val_loss: 0.5433\n",
      "Epoch 5/100\n",
      "116050/116050 [==============================] - 19s - loss: 0.5663 - val_loss: 1.2429\n",
      "Epoch 6/100\n",
      "116050/116050 [==============================] - 19s - loss: 0.5316 - val_loss: 0.3994\n",
      "Epoch 7/100\n",
      "116050/116050 [==============================] - 19s - loss: 0.5080 - val_loss: 0.5553\n",
      "Epoch 8/100\n",
      "116050/116050 [==============================] - 19s - loss: 0.5052 - val_loss: 0.3485\n",
      "Epoch 9/100\n",
      "116050/116050 [==============================] - 19s - loss: 0.4813 - val_loss: 0.3340\n",
      "Epoch 10/100\n",
      "116050/116050 [==============================] - 19s - loss: 0.4801 - val_loss: 0.4038\n",
      "Epoch 11/100\n",
      "116050/116050 [==============================] - 19s - loss: 0.4596 - val_loss: 0.4817\n",
      "Epoch 12/100\n",
      "116050/116050 [==============================] - 19s - loss: 0.4577 - val_loss: 0.3681\n",
      "Epoch 13/100\n",
      "115712/116050 [============================>.] - ETA: 0s - loss: 0.4846\n",
      "Epoch 00012: reducing learning rate to 0.00010000000475.\n",
      "116050/116050 [==============================] - 19s - loss: 0.4845 - val_loss: 0.5447\n",
      "Epoch 14/100\n",
      "116050/116050 [==============================] - 19s - loss: 0.3815 - val_loss: 0.3300\n",
      "Epoch 15/100\n",
      "116050/116050 [==============================] - 19s - loss: 0.3600 - val_loss: 0.3186\n",
      "Epoch 16/100\n",
      "116050/116050 [==============================] - 19s - loss: 0.3486 - val_loss: 0.3171\n",
      "Epoch 17/100\n",
      "116050/116050 [==============================] - 19s - loss: 0.3460 - val_loss: 0.3127\n",
      "Epoch 18/100\n",
      "116050/116050 [==============================] - 19s - loss: 0.3417 - val_loss: 0.3089\n",
      "Epoch 19/100\n",
      "116050/116050 [==============================] - 19s - loss: 0.3373 - val_loss: 0.3345\n",
      "Epoch 20/100\n",
      "116050/116050 [==============================] - 19s - loss: 0.3347 - val_loss: 0.3145\n",
      "Epoch 21/100\n",
      "116050/116050 [==============================] - 19s - loss: 0.3324 - val_loss: 0.3136\n",
      "Epoch 22/100\n",
      "115712/116050 [============================>.] - ETA: 0s - loss: 0.3324\n",
      "Epoch 00021: reducing learning rate to 1.0000000475e-05.\n",
      "116050/116050 [==============================] - 19s - loss: 0.3319 - val_loss: 0.3360\n",
      "Epoch 23/100\n",
      "116050/116050 [==============================] - 19s - loss: 0.3186 - val_loss: 0.3098\n",
      "Epoch 24/100\n",
      "116050/116050 [==============================] - 18s - loss: 0.3165 - val_loss: 0.3139\n"
     ]
    }
   ],
   "source": [
    "history = model.fit(X_train, Y_train, validation_data=(X_valid,Y_valid),\n",
    "          epochs=100, callbacks=callbacks, batch_size=batch_size) "
   ]
  },
  {
   "cell_type": "markdown",
   "metadata": {},
   "source": [
    "#### K-folding"
   ]
  },
  {
   "cell_type": "code",
   "execution_count": 207,
   "metadata": {
    "collapsed": true
   },
   "outputs": [],
   "source": [
    "from sklearn.model_selection import KFold"
   ]
  },
  {
   "cell_type": "code",
   "execution_count": 208,
   "metadata": {
    "collapsed": true
   },
   "outputs": [],
   "source": [
    "batch_size = 128\n",
    "cum_test_preds = np.zeros((145063, 1))\n",
    "kf = KFold(n_splits=5)\n",
    "map_test =  [contin_map_test,X_test]\n"
   ]
  },
  {
   "cell_type": "code",
   "execution_count": 213,
   "metadata": {},
   "outputs": [
    {
     "name": "stdout",
     "output_type": "stream",
     "text": [
      "Train on 116050 samples, validate on 29013 samples\n",
      "Epoch 1/100\n",
      "116050/116050 [==============================] - 16s - loss: 1.7024 - val_loss: 2.1232\n",
      "Epoch 2/100\n",
      "116050/116050 [==============================] - 14s - loss: 0.7028 - val_loss: 0.3273\n",
      "Epoch 3/100\n",
      "116050/116050 [==============================] - 14s - loss: 0.5151 - val_loss: 0.4862\n",
      "Epoch 4/100\n",
      "116050/116050 [==============================] - 14s - loss: 0.6021 - val_loss: 0.4219\n",
      "Epoch 5/100\n",
      "116050/116050 [==============================] - 14s - loss: 0.4653 - val_loss: 0.3112\n",
      "Epoch 6/100\n",
      "116050/116050 [==============================] - 14s - loss: 0.4518 - val_loss: 0.3169\n",
      "Epoch 7/100\n",
      "116050/116050 [==============================] - 14s - loss: 0.4255 - val_loss: 0.3710\n",
      "Epoch 8/100\n",
      "116050/116050 [==============================] - 14s - loss: 0.4273 - val_loss: 0.2875\n",
      "Epoch 9/100\n",
      "116050/116050 [==============================] - 14s - loss: 0.4251 - val_loss: 0.3009\n",
      "Epoch 10/100\n",
      "116050/116050 [==============================] - 14s - loss: 0.4421 - val_loss: 0.3077\n",
      "Epoch 11/100\n",
      "116050/116050 [==============================] - 14s - loss: 0.4653 - val_loss: 0.4835\n",
      "Epoch 12/100\n",
      "115840/116050 [============================>.] - ETA: 0s - loss: 0.4049\n",
      "Epoch 00011: reducing learning rate to 0.00010000000475.\n",
      "116050/116050 [==============================] - 14s - loss: 0.4052 - val_loss: 0.3494\n",
      "Epoch 13/100\n",
      "116050/116050 [==============================] - 14s - loss: 0.3640 - val_loss: 0.2834\n",
      "Epoch 14/100\n",
      "116050/116050 [==============================] - 14s - loss: 0.3537 - val_loss: 0.2849\n",
      "Epoch 15/100\n",
      "116050/116050 [==============================] - 14s - loss: 0.3506 - val_loss: 0.3188\n",
      "Epoch 16/100\n",
      "116050/116050 [==============================] - 14s - loss: 0.3463 - val_loss: 0.2808\n",
      "Epoch 17/100\n",
      "116050/116050 [==============================] - 14s - loss: 0.3426 - val_loss: 0.2817\n",
      "Epoch 18/100\n",
      "116050/116050 [==============================] - 14s - loss: 0.3417 - val_loss: 0.2872\n",
      "Epoch 19/100\n",
      "116050/116050 [==============================] - 14s - loss: 0.3409 - val_loss: 0.2813\n",
      "Epoch 20/100\n",
      "116050/116050 [==============================] - 14s - loss: 0.3355 - val_loss: 0.2782\n",
      "Epoch 21/100\n",
      "116050/116050 [==============================] - 14s - loss: 0.3375 - val_loss: 0.2801\n",
      "Epoch 22/100\n",
      "116050/116050 [==============================] - 14s - loss: 0.3352 - val_loss: 0.2709\n",
      "Epoch 23/100\n",
      "116050/116050 [==============================] - 14s - loss: 0.3300 - val_loss: 0.2881\n",
      "Epoch 24/100\n",
      "116050/116050 [==============================] - 14s - loss: 0.3324 - val_loss: 0.2833\n",
      "Epoch 25/100\n",
      "116050/116050 [==============================] - 14s - loss: 0.3276 - val_loss: 0.2766\n",
      "Epoch 26/100\n",
      "115840/116050 [============================>.] - ETA: 0s - loss: 0.3270\n",
      "Epoch 00025: reducing learning rate to 1.0000000475e-05.\n",
      "116050/116050 [==============================] - 14s - loss: 0.3269 - val_loss: 0.2793\n",
      "Epoch 27/100\n",
      "116050/116050 [==============================] - 14s - loss: 0.3179 - val_loss: 0.2709\n",
      "Epoch 28/100\n",
      "116050/116050 [==============================] - 14s - loss: 0.3198 - val_loss: 0.2709\n",
      "Epoch 29/100\n",
      "116050/116050 [==============================] - 14s - loss: 0.3152 - val_loss: 0.2725\n",
      "Epoch 30/100\n",
      "116050/116050 [==============================] - 14s - loss: 0.3136 - val_loss: 0.2708\n",
      "Epoch 31/100\n",
      "116050/116050 [==============================] - 14s - loss: 0.3166 - val_loss: 0.2695\n",
      "Epoch 32/100\n",
      "116050/116050 [==============================] - 13s - loss: 0.3129 - val_loss: 0.2732\n",
      "Epoch 33/100\n",
      "116050/116050 [==============================] - 13s - loss: 0.3153 - val_loss: 0.2703\n",
      "Epoch 34/100\n",
      "116050/116050 [==============================] - 14s - loss: 0.3144 - val_loss: 0.2694\n",
      "Epoch 35/100\n",
      "116050/116050 [==============================] - 14s - loss: 0.3158 - val_loss: 0.2717\n",
      "Epoch 36/100\n",
      "116050/116050 [==============================] - 14s - loss: 0.3158 - val_loss: 0.2750\n",
      "Epoch 37/100\n",
      "116050/116050 [==============================] - 14s - loss: 0.3132 - val_loss: 0.2702\n",
      "Epoch 38/100\n",
      "116050/116050 [==============================] - 14s - loss: 0.3139 - val_loss: 0.2693\n",
      "Epoch 39/100\n",
      "116050/116050 [==============================] - 14s - loss: 0.3122 - val_loss: 0.2768\n",
      "Epoch 40/100\n",
      "116050/116050 [==============================] - 14s - loss: 0.3130 - val_loss: 0.2695\n",
      "Epoch 41/100\n",
      "116050/116050 [==============================] - 14s - loss: 0.3113 - val_loss: 0.2707\n",
      "Epoch 42/100\n",
      "116050/116050 [==============================] - 14s - loss: 0.3113 - val_loss: 0.2729\n",
      "Epoch 43/100\n",
      "116050/116050 [==============================] - 14s - loss: 0.3130 - val_loss: 0.2696\n",
      "Epoch 44/100\n",
      "116050/116050 [==============================] - 14s - loss: 0.3129 - val_loss: 0.2701\n",
      "144640/145063 [============================>.] - ETA: 0sTrain on 116050 samples, validate on 29013 samples\n",
      "Epoch 1/100\n",
      "116050/116050 [==============================] - 15s - loss: 0.3858 - val_loss: 0.3669\n",
      "Epoch 2/100\n",
      "116050/116050 [==============================] - 14s - loss: 0.3736 - val_loss: 0.3822\n",
      "Epoch 3/100\n",
      "116050/116050 [==============================] - 14s - loss: 0.3738 - val_loss: 0.3826\n",
      "Epoch 4/100\n",
      "116050/116050 [==============================] - 14s - loss: 0.5475 - val_loss: 0.4873\n",
      "Epoch 5/100\n",
      "115840/116050 [============================>.] - ETA: 0s - loss: 0.3790\n",
      "Epoch 00004: reducing learning rate to 0.00010000000475.\n",
      "116050/116050 [==============================] - 14s - loss: 0.3789 - val_loss: 0.4068\n",
      "Epoch 6/100\n",
      "116050/116050 [==============================] - 14s - loss: 0.3351 - val_loss: 0.3605\n",
      "Epoch 7/100\n",
      "116050/116050 [==============================] - 14s - loss: 0.3309 - val_loss: 0.3568\n",
      "Epoch 8/100\n",
      "116050/116050 [==============================] - 14s - loss: 0.3261 - val_loss: 0.3558\n",
      "Epoch 9/100\n",
      "116050/116050 [==============================] - 14s - loss: 0.3214 - val_loss: 0.3538\n",
      "Epoch 10/100\n",
      "116050/116050 [==============================] - 14s - loss: 0.3207 - val_loss: 0.3540\n",
      "Epoch 11/100\n",
      "116050/116050 [==============================] - 14s - loss: 0.3677 - val_loss: 0.3444\n",
      "Epoch 12/100\n",
      "116050/116050 [==============================] - 14s - loss: 0.3165 - val_loss: 0.3487\n",
      "Epoch 13/100\n",
      "116050/116050 [==============================] - 14s - loss: 0.3143 - val_loss: 0.3436\n",
      "Epoch 14/100\n",
      "116050/116050 [==============================] - 14s - loss: 0.3162 - val_loss: 0.3465\n",
      "Epoch 15/100\n",
      "116050/116050 [==============================] - 14s - loss: 0.3118 - val_loss: 0.3354\n",
      "Epoch 16/100\n",
      "116050/116050 [==============================] - 14s - loss: 0.3080 - val_loss: 0.3356\n",
      "Epoch 17/100\n",
      "116050/116050 [==============================] - 14s - loss: 0.3070 - val_loss: 0.3336\n",
      "Epoch 18/100\n",
      "116050/116050 [==============================] - 14s - loss: 0.3061 - val_loss: 0.3340\n",
      "Epoch 19/100\n",
      "116050/116050 [==============================] - 14s - loss: 0.3317 - val_loss: 0.3302\n",
      "Epoch 20/100\n",
      "116050/116050 [==============================] - 14s - loss: 0.3048 - val_loss: 0.3292\n",
      "Epoch 21/100\n",
      "116050/116050 [==============================] - 14s - loss: 0.3036 - val_loss: 0.3288\n",
      "Epoch 22/100\n",
      "116050/116050 [==============================] - 14s - loss: 0.3018 - val_loss: 0.3247\n",
      "Epoch 23/100\n",
      "116050/116050 [==============================] - 14s - loss: 0.3023 - val_loss: 0.3254\n",
      "Epoch 24/100\n",
      "116050/116050 [==============================] - 14s - loss: 0.3027 - val_loss: 0.3310\n",
      "Epoch 25/100\n",
      "116050/116050 [==============================] - 14s - loss: 0.2983 - val_loss: 0.3240\n",
      "Epoch 26/100\n",
      "116050/116050 [==============================] - 14s - loss: 0.2964 - val_loss: 0.3233\n",
      "Epoch 27/100\n",
      "116050/116050 [==============================] - 14s - loss: 0.2951 - val_loss: 0.3276\n",
      "Epoch 28/100\n",
      "116050/116050 [==============================] - 14s - loss: 0.3089 - val_loss: 0.3250\n",
      "Epoch 29/100\n",
      "116050/116050 [==============================] - 14s - loss: 0.2920 - val_loss: 0.3397\n",
      "Epoch 30/100\n",
      "115840/116050 [============================>.] - ETA: 0s - loss: 0.2967\n",
      "Epoch 00029: reducing learning rate to 1.0000000475e-05.\n",
      "116050/116050 [==============================] - 14s - loss: 0.2965 - val_loss: 0.3234\n",
      "Epoch 31/100\n",
      "116050/116050 [==============================] - 14s - loss: 0.2902 - val_loss: 0.3191\n",
      "Epoch 32/100\n",
      "116050/116050 [==============================] - 14s - loss: 0.2886 - val_loss: 0.3150\n",
      "Epoch 33/100\n",
      "116050/116050 [==============================] - 14s - loss: 0.3030 - val_loss: 0.3206\n",
      "Epoch 34/100\n",
      "116050/116050 [==============================] - 14s - loss: 0.2885 - val_loss: 0.3198\n",
      "Epoch 35/100\n",
      "116050/116050 [==============================] - 14s - loss: 0.2886 - val_loss: 0.3220\n",
      "Epoch 36/100\n",
      "116050/116050 [==============================] - 14s - loss: 0.3253 - val_loss: 0.3190\n",
      "Epoch 37/100\n",
      "116050/116050 [==============================] - 14s - loss: 0.2883 - val_loss: 0.3183\n",
      "Epoch 38/100\n",
      "116050/116050 [==============================] - 14s - loss: 0.2875 - val_loss: 0.3190\n",
      "144384/145063 [============================>.] - ETA: 0sTrain on 116050 samples, validate on 29013 samples\n",
      "Epoch 1/100\n",
      "116050/116050 [==============================] - 15s - loss: 0.3823 - val_loss: 0.3774\n",
      "Epoch 2/100\n",
      "116050/116050 [==============================] - 14s - loss: 0.5018 - val_loss: 0.3936\n",
      "Epoch 3/100\n",
      "116050/116050 [==============================] - 14s - loss: 0.3790 - val_loss: 0.3969\n",
      "Epoch 4/100\n",
      "116050/116050 [==============================] - 14s - loss: 0.3622 - val_loss: 0.3639\n",
      "Epoch 5/100\n",
      "116050/116050 [==============================] - 14s - loss: 0.3499 - val_loss: 0.3884\n",
      "Epoch 6/100\n",
      "116050/116050 [==============================] - 14s - loss: 0.4161 - val_loss: 0.4003\n",
      "Epoch 7/100\n",
      "116050/116050 [==============================] - 14s - loss: 0.3723 - val_loss: 0.3771\n",
      "Epoch 8/100\n",
      "115840/116050 [============================>.] - ETA: 0s - loss: 0.3619\n",
      "Epoch 00007: reducing learning rate to 0.00010000000475.\n",
      "116050/116050 [==============================] - 14s - loss: 0.3618 - val_loss: 0.3977\n",
      "Epoch 9/100\n",
      "116050/116050 [==============================] - 14s - loss: 0.3270 - val_loss: 0.3524\n",
      "Epoch 10/100\n",
      "116050/116050 [==============================] - 14s - loss: 0.3214 - val_loss: 0.3478\n",
      "Epoch 11/100\n",
      "116050/116050 [==============================] - 14s - loss: 0.3153 - val_loss: 0.3451\n",
      "Epoch 12/100\n",
      "116050/116050 [==============================] - 14s - loss: 0.3177 - val_loss: 0.3461\n",
      "Epoch 13/100\n",
      "116050/116050 [==============================] - 14s - loss: 0.3120 - val_loss: 0.3508\n",
      "Epoch 14/100\n",
      "116050/116050 [==============================] - 14s - loss: 0.3065 - val_loss: 0.3401\n",
      "Epoch 15/100\n",
      "116050/116050 [==============================] - 14s - loss: 0.3088 - val_loss: 0.3422\n",
      "Epoch 16/100\n",
      "116050/116050 [==============================] - 14s - loss: 0.3052 - val_loss: 0.3429\n",
      "Epoch 17/100\n",
      "116050/116050 [==============================] - 14s - loss: 0.3063 - val_loss: 0.3442\n",
      "Epoch 18/100\n",
      "115840/116050 [============================>.] - ETA: 0s - loss: 0.3057\n",
      "Epoch 00017: reducing learning rate to 1.0000000475e-05.\n",
      "116050/116050 [==============================] - 14s - loss: 0.3055 - val_loss: 0.3477\n",
      "Epoch 19/100\n",
      "116050/116050 [==============================] - 14s - loss: 0.3012 - val_loss: 0.3352\n",
      "Epoch 20/100\n",
      "116050/116050 [==============================] - 14s - loss: 0.2958 - val_loss: 0.3365\n",
      "Epoch 21/100\n",
      "116050/116050 [==============================] - 13s - loss: 0.2957 - val_loss: 0.3350\n",
      "Epoch 22/100\n",
      "116050/116050 [==============================] - 14s - loss: 0.2987 - val_loss: 0.3372\n",
      "Epoch 23/100\n",
      "116050/116050 [==============================] - 14s - loss: 0.2986 - val_loss: 0.3338\n",
      "Epoch 24/100\n",
      "116050/116050 [==============================] - 14s - loss: 0.2968 - val_loss: 0.3340\n",
      "Epoch 25/100\n",
      "116050/116050 [==============================] - 14s - loss: 0.2961 - val_loss: 0.3351\n",
      "Epoch 26/100\n",
      "116050/116050 [==============================] - 14s - loss: 0.2962 - val_loss: 0.3331\n",
      "Epoch 27/100\n",
      "116050/116050 [==============================] - 14s - loss: 0.2953 - val_loss: 0.3348\n",
      "Epoch 28/100\n",
      "116050/116050 [==============================] - 14s - loss: 0.2929 - val_loss: 0.3333\n",
      "Epoch 29/100\n",
      "116050/116050 [==============================] - 14s - loss: 0.2949 - val_loss: 0.3343\n",
      "Epoch 30/100\n",
      "116050/116050 [==============================] - 14s - loss: 0.2953 - val_loss: 0.3359\n",
      "Epoch 31/100\n",
      "116050/116050 [==============================] - 14s - loss: 0.2975 - val_loss: 0.3362\n",
      "Epoch 32/100\n",
      "116050/116050 [==============================] - 14s - loss: 0.2980 - val_loss: 0.3342\n",
      "144640/145063 [============================>.] - ETA: 0sTrain on 116051 samples, validate on 29012 samples\n",
      "Epoch 1/100\n",
      "116051/116051 [==============================] - 16s - loss: 0.4051 - val_loss: 0.4077\n",
      "Epoch 2/100\n",
      "116051/116051 [==============================] - 14s - loss: 0.3796 - val_loss: 0.3209\n",
      "Epoch 3/100\n",
      "116051/116051 [==============================] - 14s - loss: 0.5580 - val_loss: 0.3421\n",
      "Epoch 4/100\n",
      "116051/116051 [==============================] - 14s - loss: 0.3696 - val_loss: 0.3386\n",
      "Epoch 5/100\n",
      "116051/116051 [==============================] - 14s - loss: 0.3711 - val_loss: 0.4162\n",
      "Epoch 6/100\n",
      "116051/116051 [==============================] - 14s - loss: 0.3759 - val_loss: 0.3207\n",
      "Epoch 7/100\n",
      "116051/116051 [==============================] - 14s - loss: 0.3745 - val_loss: 0.3477\n",
      "Epoch 8/100\n",
      "116051/116051 [==============================] - 14s - loss: 0.3670 - val_loss: 0.3346\n",
      "Epoch 9/100\n",
      "116051/116051 [==============================] - 14s - loss: 0.3640 - val_loss: 0.3341\n",
      "Epoch 10/100\n",
      "115840/116051 [============================>.] - ETA: 0s - loss: 0.3638\n",
      "Epoch 00009: reducing learning rate to 0.00010000000475.\n",
      "116051/116051 [==============================] - 15s - loss: 0.3638 - val_loss: 0.3210\n",
      "Epoch 11/100\n",
      "116051/116051 [==============================] - 14s - loss: 0.3298 - val_loss: 0.3126\n",
      "Epoch 12/100\n",
      "116051/116051 [==============================] - 14s - loss: 0.3194 - val_loss: 0.3232\n",
      "Epoch 13/100\n",
      "116051/116051 [==============================] - 14s - loss: 0.3200 - val_loss: 0.3050\n",
      "Epoch 14/100\n",
      "116051/116051 [==============================] - 14s - loss: 0.3151 - val_loss: 0.3124\n",
      "Epoch 15/100\n",
      "116051/116051 [==============================] - 14s - loss: 0.3121 - val_loss: 0.3015\n",
      "Epoch 16/100\n",
      "116051/116051 [==============================] - 14s - loss: 0.3120 - val_loss: 0.3070\n",
      "Epoch 17/100\n",
      "116051/116051 [==============================] - 14s - loss: 0.3082 - val_loss: 0.3025\n",
      "Epoch 18/100\n",
      "116051/116051 [==============================] - 14s - loss: 0.3280 - val_loss: 0.3018\n",
      "Epoch 19/100\n",
      "115840/116051 [============================>.] - ETA: 0s - loss: 0.3078\n",
      "Epoch 00018: reducing learning rate to 1.0000000475e-05.\n",
      "116051/116051 [==============================] - 14s - loss: 0.3079 - val_loss: 0.3037\n",
      "Epoch 20/100\n",
      "116051/116051 [==============================] - 14s - loss: 0.3000 - val_loss: 0.3001\n",
      "Epoch 21/100\n",
      "116051/116051 [==============================] - 14s - loss: 0.3001 - val_loss: 0.2980\n",
      "Epoch 22/100\n",
      "116051/116051 [==============================] - 14s - loss: 0.3020 - val_loss: 0.2970\n",
      "Epoch 23/100\n",
      "116051/116051 [==============================] - 14s - loss: 0.2994 - val_loss: 0.2996\n",
      "Epoch 24/100\n",
      "116051/116051 [==============================] - 14s - loss: 0.2984 - val_loss: 0.2970\n",
      "Epoch 25/100\n",
      "116051/116051 [==============================] - 14s - loss: 0.2952 - val_loss: 0.3019\n",
      "Epoch 26/100\n",
      "116051/116051 [==============================] - 14s - loss: 0.2982 - val_loss: 0.2996\n",
      "Epoch 27/100\n",
      "116051/116051 [==============================] - 14s - loss: 0.2980 - val_loss: 0.2995\n",
      "Epoch 28/100\n",
      "116051/116051 [==============================] - 14s - loss: 0.2984 - val_loss: 0.3005\n",
      "143872/145063 [============================>.] - ETA: 0sTrain on 116051 samples, validate on 29012 samples\n",
      "Epoch 1/100\n",
      "116051/116051 [==============================] - 15s - loss: 0.4379 - val_loss: 0.2791\n",
      "Epoch 2/100\n",
      "116051/116051 [==============================] - 14s - loss: 0.5212 - val_loss: 0.1981\n",
      "Epoch 3/100\n",
      "116051/116051 [==============================] - 14s - loss: 0.4345 - val_loss: 0.2395\n",
      "Epoch 4/100\n",
      "116051/116051 [==============================] - 14s - loss: 0.4155 - val_loss: 0.1881\n",
      "Epoch 5/100\n",
      "116051/116051 [==============================] - 14s - loss: 0.4065 - val_loss: 0.1922\n",
      "Epoch 6/100\n",
      "116051/116051 [==============================] - 14s - loss: 0.4437 - val_loss: 0.2854\n",
      "Epoch 7/100\n"
     ]
    },
    {
     "name": "stdout",
     "output_type": "stream",
     "text": [
      "116051/116051 [==============================] - 14s - loss: 0.4429 - val_loss: 0.1943\n",
      "Epoch 8/100\n",
      "115840/116051 [============================>.] - ETA: 0s - loss: 0.4166\n",
      "Epoch 00007: reducing learning rate to 0.00010000000475.\n",
      "116051/116051 [==============================] - 14s - loss: 0.4166 - val_loss: 0.2024\n",
      "Epoch 9/100\n",
      "116051/116051 [==============================] - 14s - loss: 0.3730 - val_loss: 0.1853\n",
      "Epoch 10/100\n",
      "116051/116051 [==============================] - 14s - loss: 0.3661 - val_loss: 0.1824\n",
      "Epoch 11/100\n",
      "116051/116051 [==============================] - 14s - loss: 0.3607 - val_loss: 0.1783\n",
      "Epoch 12/100\n",
      "116051/116051 [==============================] - 14s - loss: 0.3571 - val_loss: 0.1822\n",
      "Epoch 13/100\n",
      "116051/116051 [==============================] - 14s - loss: 0.3529 - val_loss: 0.1755\n",
      "Epoch 14/100\n",
      "116051/116051 [==============================] - 14s - loss: 0.3477 - val_loss: 0.1728\n",
      "Epoch 15/100\n",
      "116051/116051 [==============================] - 14s - loss: 0.3424 - val_loss: 0.1727\n",
      "Epoch 16/100\n",
      "116051/116051 [==============================] - 14s - loss: 0.3451 - val_loss: 0.1698\n",
      "Epoch 17/100\n",
      "116051/116051 [==============================] - 14s - loss: 0.3449 - val_loss: 0.1647\n",
      "Epoch 18/100\n",
      "116051/116051 [==============================] - 14s - loss: 0.3540 - val_loss: 0.1684\n",
      "Epoch 19/100\n",
      "116051/116051 [==============================] - 14s - loss: 0.3411 - val_loss: 0.1714\n",
      "Epoch 20/100\n",
      "116051/116051 [==============================] - 14s - loss: 0.3410 - val_loss: 0.1692\n",
      "Epoch 21/100\n",
      "115840/116051 [============================>.] - ETA: 0s - loss: 0.3344\n",
      "Epoch 00020: reducing learning rate to 1.0000000475e-05.\n",
      "116051/116051 [==============================] - 14s - loss: 0.3346 - val_loss: 0.1678\n",
      "Epoch 22/100\n",
      "116051/116051 [==============================] - 14s - loss: 0.3344 - val_loss: 0.1636\n",
      "Epoch 23/100\n",
      "116051/116051 [==============================] - 14s - loss: 0.3360 - val_loss: 0.1638\n",
      "Epoch 24/100\n",
      "116051/116051 [==============================] - 14s - loss: 0.3321 - val_loss: 0.1634\n",
      "Epoch 25/100\n",
      "116051/116051 [==============================] - 14s - loss: 0.3320 - val_loss: 0.1638\n",
      "Epoch 26/100\n",
      "116051/116051 [==============================] - 14s - loss: 0.3291 - val_loss: 0.1637\n",
      "Epoch 27/100\n",
      "116051/116051 [==============================] - 14s - loss: 0.3302 - val_loss: 0.1647\n",
      "Epoch 28/100\n",
      "116051/116051 [==============================] - 14s - loss: 0.3299 - val_loss: 0.1641\n",
      "Epoch 29/100\n",
      "116051/116051 [==============================] - 14s - loss: 0.3328 - val_loss: 0.1631\n",
      "Epoch 30/100\n",
      "116051/116051 [==============================] - 14s - loss: 0.3289 - val_loss: 0.1634\n",
      "Epoch 31/100\n",
      "116051/116051 [==============================] - 14s - loss: 0.3298 - val_loss: 0.1631\n",
      "Epoch 32/100\n",
      "116051/116051 [==============================] - 14s - loss: 0.3306 - val_loss: 0.1640\n",
      "Epoch 33/100\n",
      "116051/116051 [==============================] - 14s - loss: 0.3322 - val_loss: 0.1651\n",
      "Epoch 34/100\n",
      "116051/116051 [==============================] - 14s - loss: 0.3334 - val_loss: 0.1639\n",
      "Epoch 35/100\n",
      "116051/116051 [==============================] - 14s - loss: 0.3308 - val_loss: 0.1659\n",
      "144128/145063 [============================>.] - ETA: 0s"
     ]
    }
   ],
   "source": [
    "\n",
    "for ix_train, ix_valid in kf.split(train):    \n",
    "\n",
    "    X_train = np.log1p(train.iloc[ix_train,1:].values)\n",
    "    X_valid = np.log1p(train.iloc[ix_valid,1:].values)\n",
    "\n",
    "    #reshaping into 3d for LSTM\n",
    "    X_train = X_train.reshape((-1,1,X_train.shape[1]))\n",
    "    X_valid = X_valid.reshape((-1,1,X_valid.shape[1]))\n",
    "    \n",
    "\n",
    "    ### prepare targets\n",
    "    Y_train = np.log1p(holdout.iloc[ix_train,1:].values)\n",
    "    Y_valid = np.log1p(holdout.iloc[ix_valid,1:].values)\n",
    "\n",
    "    Y_train = np.median(Y_train,axis=1)#np.array([np.mean(Y_train)])\n",
    "    Y_valid = np.median(Y_valid,axis=1)\n",
    "    \n",
    "    \n",
    "    ### prepare model input\n",
    "    \n",
    "    contin_map_train = contin_preproc(raw_train_early_window.iloc[ix_train])\n",
    "    contin_map_valid = contin_preproc(raw_train_early_window.iloc[ix_valid])\n",
    "    \n",
    "    map_train =[contin_map_train] + [X_train]\n",
    "    map_valid =[contin_map_valid] + [X_valid]\n",
    "    \n",
    "    ###\n",
    "    \n",
    "    model = Model([contin_inp,ts_inp], x)#\n",
    "    model.compile('adam', \"mean_squared_error\") #mean_absolute_percentage_error  mean_absolute_error mean_squared_error\n",
    "\n",
    "    \n",
    "    history = model.fit(map_train, Y_train, validation_data=(map_valid,Y_valid),\n",
    "              epochs=100, callbacks=callbacks, batch_size=batch_size) \n",
    "\n",
    "    \n",
    "    model.load_weights(MODEL_WEIGHTS_FILE)\n",
    "    \n",
    "    cum_test_preds += model.predict(map_test,verbose=1,batch_size=128)\n",
    "\n",
    "    \n",
    "cum_test_preds /= 5.\n",
    "pickle.dump(cum_test_preds,open(\"data/cache/cum_test_preds\",\"wb\"))    \n",
    "    "
   ]
  },
  {
   "cell_type": "markdown",
   "metadata": {},
   "source": [
    "### Multi-intput Model"
   ]
  },
  {
   "cell_type": "code",
   "execution_count": 199,
   "metadata": {
    "collapsed": true
   },
   "outputs": [],
   "source": [
    "def get_contin(feat):\n",
    "    name = feat[0][0]\n",
    "    inp = Input((1,), name=name+'_in')\n",
    "    return inp, Dense(1, name=name+'_d', init=my_init(1.))(inp)"
   ]
  },
  {
   "cell_type": "code",
   "execution_count": 200,
   "metadata": {
    "collapsed": true
   },
   "outputs": [],
   "source": [
    "def get_emb(feat):\n",
    "    name, c = cat_map_info(feat)\n",
    "    #c2 = cat_var_dict[name]\n",
    "    c2 = (c+1)//2\n",
    "    if c2>100: c2=100\n",
    "    print (c,c2)\n",
    "    inp = Input((1,), dtype='int64', name=name+'_in')\n",
    "    # , W_regularizer=l2(1e-6)\n",
    "    u = Flatten(name=name+'_flt')(Embedding(c, c2, input_length=1, )(inp)) #init=emb_init\n",
    "#     u = Flatten(name=name+'_flt')(Embedding(c, c2, input_length=1)(inp))\n",
    "    return inp,u"
   ]
  },
  {
   "cell_type": "code",
   "execution_count": 201,
   "metadata": {},
   "outputs": [
    {
     "name": "stdout",
     "output_type": "stream",
     "text": [
      "(8, 4)\n"
     ]
    }
   ],
   "source": [
    "embs = [get_emb(feat) for feat in cat_map_fit.features]"
   ]
  },
  {
   "cell_type": "code",
   "execution_count": 202,
   "metadata": {
    "collapsed": true
   },
   "outputs": [],
   "source": [
    "ts_inp = Input((1,X_train.shape[2]), name='ts_input')\n"
   ]
  },
  {
   "cell_type": "code",
   "execution_count": 203,
   "metadata": {
    "collapsed": true
   },
   "outputs": [],
   "source": [
    "contin_inp = Input((contin_cols,), name='contin')\n",
    "contin_out = Dense(contin_cols*10, activation='relu', name='contin_d')(contin_inp)"
   ]
  },
  {
   "cell_type": "code",
   "execution_count": 229,
   "metadata": {
    "collapsed": true
   },
   "outputs": [],
   "source": [
    "# lstm_model = LSTM(512, input_shape=( 1,X_train.shape[2],), return_sequences=True, dropout=0.2, recurrent_dropout=0.2)(ts_inp)\n",
    "lstm_model = Bidirectional(LSTM(512, return_sequences=True,\n",
    "                                dropout=0.2, recurrent_dropout=0.2),input_shape=( 1,X_train.shape[2]))(ts_inp)\n",
    "\n",
    "lstm_model = TimeDistributed(Dense(512,activation='relu'))(lstm_model)\n",
    "lstm_model = Flatten()(lstm_model)\n",
    "\n",
    "\n",
    "\n",
    "x = concatenate([emb for inp,emb in embs]+[contin_out,lstm_model]) #contin_out,\n",
    "# x = concatenate([contin_out,lstm_model]) #contin_out,\n",
    "x = Dropout(0.05)(x)\n",
    "x = Dense(512, activation='relu', kernel_initializer='uniform')(x)\n",
    "x = Dropout(0.3)(x)\n",
    "x = Dense(1,activation='relu')(x)\n",
    "\n",
    "# x = Dense(60,activation='relu',name=\"Y_ts\")(Dropout(0.35)(x))\n",
    "# median_output = Dense(1,activation='relu',name=\"Y_median\")(x)\n"
   ]
  },
  {
   "cell_type": "code",
   "execution_count": 230,
   "metadata": {},
   "outputs": [],
   "source": [
    "\n",
    "model = Model([inp for inp,emb in embs] + [contin_inp,ts_inp], x)#contin_inp\n",
    "# model = Model([contin_inp,ts_inp], [x,median_output])#\n",
    "\n",
    "# model.compile(Adam(lr=1e-3), \n",
    "#               loss=[\"mean_squared_error\",\"mean_squared_error\"],\n",
    "#               loss_weights=[.5, 1])\n",
    "\n",
    "\n",
    "# model = Model([contin_inp,ts_inp], x)#\n",
    "model.compile(Adam(lr=1e-3), \n",
    "              loss=\"mean_squared_error\") #mean_absolute_percentage_error  mean_absolute_error mean_squared_error\n"
   ]
  },
  {
   "cell_type": "code",
   "execution_count": 214,
   "metadata": {
    "collapsed": true
   },
   "outputs": [],
   "source": [
    "# model.summary()"
   ]
  },
  {
   "cell_type": "code",
   "execution_count": 231,
   "metadata": {
    "collapsed": true
   },
   "outputs": [],
   "source": [
    "\n",
    "# MODEL_WEIGHTS_FILE = 'weights/512lstm_{epoch:02d}_val_loss_{val_loss:.2f}.h5'\n",
    "MODEL_WEIGHTS_FILE = 'weights/multyinput_BiLSTM_cat1_contin1_mse_nanto0_target_median_fixedY.h5'\n",
    "\n",
    "callbacks = [ModelCheckpoint(MODEL_WEIGHTS_FILE, monitor='val_loss', save_best_only=True),\n",
    "            EarlyStopping(monitor='val_loss', patience=5),\n",
    "            ReduceLROnPlateau(monitor='val_loss',  patience=3, verbose=1, factor=0.1, min_lr=1e-5)]\n",
    "\n",
    "\n"
   ]
  },
  {
   "cell_type": "code",
   "execution_count": 232,
   "metadata": {
    "scrolled": false
   },
   "outputs": [
    {
     "name": "stdout",
     "output_type": "stream",
     "text": [
      "Train on 116050 samples, validate on 29013 samples\n",
      "Epoch 1/100\n",
      "116050/116050 [==============================] - 33s - loss: 1.1249 - val_loss: 0.7387\n",
      "Epoch 2/100\n",
      "116050/116050 [==============================] - 26s - loss: 0.6900 - val_loss: 0.6597\n",
      "Epoch 3/100\n",
      "116050/116050 [==============================] - 26s - loss: 0.5770 - val_loss: 0.3720\n",
      "Epoch 4/100\n",
      "116050/116050 [==============================] - 26s - loss: 0.5319 - val_loss: 0.7610\n",
      "Epoch 5/100\n",
      "116050/116050 [==============================] - 26s - loss: 0.4963 - val_loss: 0.3325\n",
      "Epoch 6/100\n",
      "116050/116050 [==============================] - 26s - loss: 0.7229 - val_loss: 0.4704\n",
      "Epoch 7/100\n",
      "116050/116050 [==============================] - 26s - loss: 0.5199 - val_loss: 0.3389\n",
      "Epoch 8/100\n",
      "116050/116050 [==============================] - 26s - loss: 0.4671 - val_loss: 0.4115\n",
      "Epoch 9/100\n",
      "115840/116050 [============================>.] - ETA: 0s - loss: 0.4610\n",
      "Epoch 00008: reducing learning rate to 0.00010000000475.\n",
      "116050/116050 [==============================] - 27s - loss: 0.4610 - val_loss: 0.3363\n",
      "Epoch 10/100\n",
      "116050/116050 [==============================] - 26s - loss: 0.3804 - val_loss: 0.3364\n",
      "Epoch 11/100\n",
      "116050/116050 [==============================] - 26s - loss: 0.3727 - val_loss: 0.3121\n",
      "Epoch 12/100\n",
      "116050/116050 [==============================] - 25s - loss: 0.3656 - val_loss: 0.3181\n",
      "Epoch 13/100\n",
      "116050/116050 [==============================] - 26s - loss: 0.3591 - val_loss: 0.3058\n",
      "Epoch 14/100\n",
      "116050/116050 [==============================] - 26s - loss: 0.3581 - val_loss: 0.3036\n",
      "Epoch 15/100\n",
      "116050/116050 [==============================] - 25s - loss: 0.3549 - val_loss: 0.3283\n",
      "Epoch 16/100\n",
      "116050/116050 [==============================] - 25s - loss: 0.3465 - val_loss: 0.3353\n",
      "Epoch 17/100\n",
      "116050/116050 [==============================] - 26s - loss: 0.3462 - val_loss: 0.2880\n",
      "Epoch 18/100\n",
      "116050/116050 [==============================] - 25s - loss: 0.3397 - val_loss: 0.3230\n",
      "Epoch 19/100\n",
      "116050/116050 [==============================] - 25s - loss: 0.3407 - val_loss: 0.3557\n",
      "Epoch 20/100\n",
      "116050/116050 [==============================] - 25s - loss: 0.3367 - val_loss: 0.2926\n",
      "Epoch 21/100\n",
      "115840/116050 [============================>.] - ETA: 0s - loss: 0.3375\n",
      "Epoch 00020: reducing learning rate to 1.0000000475e-05.\n",
      "116050/116050 [==============================] - 25s - loss: 0.3373 - val_loss: 0.2958\n",
      "Epoch 22/100\n",
      "116050/116050 [==============================] - 26s - loss: 0.3256 - val_loss: 0.2870\n",
      "Epoch 23/100\n",
      "116050/116050 [==============================] - 26s - loss: 0.3202 - val_loss: 0.2833\n",
      "Epoch 24/100\n",
      "116050/116050 [==============================] - 26s - loss: 0.3198 - val_loss: 0.2800\n",
      "Epoch 25/100\n",
      "116050/116050 [==============================] - 25s - loss: 0.3178 - val_loss: 0.2830\n",
      "Epoch 26/100\n",
      "116050/116050 [==============================] - 25s - loss: 0.3191 - val_loss: 0.2803\n",
      "Epoch 27/100\n",
      "116050/116050 [==============================] - 26s - loss: 0.3419 - val_loss: 0.2843\n",
      "Epoch 28/100\n",
      "116050/116050 [==============================] - 25s - loss: 0.3181 - val_loss: 0.2865\n",
      "Epoch 29/100\n",
      "116050/116050 [==============================] - 25s - loss: 0.3164 - val_loss: 0.2864\n",
      "Epoch 30/100\n",
      "116050/116050 [==============================] - 25s - loss: 0.3177 - val_loss: 0.2812\n"
     ]
    }
   ],
   "source": [
    "batch_size = 128\n",
    "history = model.fit(map_train, Y_train, validation_data=(map_valid,Y_valid),\n",
    "          epochs=100, callbacks=callbacks, batch_size=batch_size) \n",
    "\n",
    "\n",
    "# history = model.fit(map_train, median_target_train, validation_data=(map_valid,median_target_valid),\n",
    "#           epochs=100, callbacks=callbacks, batch_size=batch_size) \n",
    "                    \n",
    "\n",
    "# history = model.fit(map_train, [Y_train,median_target_train], validation_data=(map_valid,[Y_valid,median_target_valid]),\n",
    "#           epochs=100, callbacks=callbacks, batch_size=batch_size) "
   ]
  },
  {
   "cell_type": "code",
   "execution_count": 339,
   "metadata": {},
   "outputs": [
    {
     "ename": "SyntaxError",
     "evalue": "invalid syntax (<ipython-input-339-343c451e63a9>, line 1)",
     "output_type": "error",
     "traceback": [
      "\u001b[0;36m  File \u001b[0;32m\"<ipython-input-339-343c451e63a9>\"\u001b[0;36m, line \u001b[0;32m1\u001b[0m\n\u001b[0;31m    val_loss: 0.3472\u001b[0m\n\u001b[0m            ^\u001b[0m\n\u001b[0;31mSyntaxError\u001b[0m\u001b[0;31m:\u001b[0m invalid syntax\n"
     ]
    }
   ],
   "source": [
    "val_loss: 0.3472\n",
    "- val_loss: 0.3068 just mom\n",
    "- 116050/116050 [==============================] - 15s - loss: 0.3412 - val_loss: 0.3172 just 4 contin\n",
    "116050/116050 [==============================] - 14s - loss: 0.3214 - val_loss: 0.2986  -  4 contin, nanto0\n",
    "two medians Epoch 26/100\n",
    "116050/116050 [==============================] - 14s - loss: 0.3133 - val_loss: 0.2911\n",
    "one median \n",
    "\n"
   ]
  },
  {
   "cell_type": "markdown",
   "metadata": {},
   "source": [
    "### Check predictions"
   ]
  },
  {
   "cell_type": "code",
   "execution_count": 233,
   "metadata": {},
   "outputs": [
    {
     "data": {
      "text/plain": [
       "'weights/multyinput_BiLSTM_cat1_contin1_mse_nanto0_target_median_fixedY.h5'"
      ]
     },
     "execution_count": 233,
     "metadata": {},
     "output_type": "execute_result"
    }
   ],
   "source": [
    "MODEL_WEIGHTS_FILE"
   ]
  },
  {
   "cell_type": "code",
   "execution_count": 234,
   "metadata": {
    "collapsed": true
   },
   "outputs": [],
   "source": [
    "model.load_weights(MODEL_WEIGHTS_FILE)"
   ]
  },
  {
   "cell_type": "code",
   "execution_count": 235,
   "metadata": {},
   "outputs": [
    {
     "data": {
      "text/plain": [
       "<matplotlib.text.Text at 0x7f620ed24c90>"
      ]
     },
     "execution_count": 235,
     "metadata": {},
     "output_type": "execute_result"
    },
    {
     "data": {
      "image/png": "[encoded data removed]",
      "text/plain": [
       "<matplotlib.figure.Figure at 0x7f6212133550>"
      ]
     },
     "metadata": {},
     "output_type": "display_data"
    }
   ],
   "source": [
    "acc = pd.DataFrame({'epoch': [ i + 1 for i in history.epoch ],\n",
    "                    'training': history.history['loss'],\n",
    "                    'validation': history.history['val_loss']})\n",
    "ax = acc.iloc[:,:].plot(x='epoch', figsize={5,8}, grid=True)\n",
    "ax.set_ylabel(\"loss\")\n",
    "# ax.set_ylim([0.0,1.0]);"
   ]
  },
  {
   "cell_type": "code",
   "execution_count": 236,
   "metadata": {},
   "outputs": [
    {
     "name": "stdout",
     "output_type": "stream",
     "text": [
      "Maximum loss at epoch 24 = 0.2800\n"
     ]
    }
   ],
   "source": [
    "min_val_loss, idx = min((val, idx) for (idx, val) in enumerate(history.history['val_loss']))\n",
    "print'Maximum loss at epoch', '{:d}'.format(idx+1), '=', '{:.4f}'.format(min_val_loss)\n"
   ]
  },
  {
   "cell_type": "markdown",
   "metadata": {},
   "source": [
    "- LSTM 512,0.1 dropout, Maximum loss at epoch 19 = 22.0781\n",
    "    - Maximum loss at epoch 18 = 30.1040\n",
    "    - fixed windows: Maximum loss at epoch 23 = 24.9313\n",
    "\n",
    "\n",
    "\n",
    "- LSTM 512,0.2 dropout, Maximum loss at epoch 32 = 33.1983 \n",
    "    - nan to median: Maximum loss at epoch 23 = 0.3788\n",
    "    - nan to\n",
    "    - BILSTM: Maximum loss at epoch 17 = 0.3694\n",
    "    - BILSTMx3: Maximum loss at epoch 2 = 0.5430\n",
    "    \n",
    "    \n",
    "    \n",
    "- LSTM 512, 0.2 dropout, BN, Maximum loss at epoch 19 = 35.1806\n",
    "- LSTMx2 512,0.2 dropout, Maximum loss at epoch 11 = 33.4731\n",
    "\n",
    "\n",
    "\n",
    "- LSTM 1024, 0.2 drooutout Maximum loss at epoch 9 = 25.4243\n",
    "    - extra dense 0.3921 (incomplete .. 43 epochs )\n",
    "\n",
    "- LSTM 1024, 0.1 drooutout Maximum loss at epoch 2 = 28.5591\n",
    "\n",
    "\n",
    "##### multi-input (Lstm + catx4) \n",
    "- ('Maximum loss at epoch', '55', '=', '0.3361') 0.3361\n",
    "- smape: ('Maximum loss at epoch', '19', '=', '12.9727') LB: \n",
    "- multyinput_LSTM_cat3_mse: ('Maximum loss at epoch', '19', '=', '0.3579')\n",
    "- nowinsorization-nanto0, mse: 0.3286\n",
    "\n",
    "\n",
    "##### catx4 continx1 \n",
    "multyinput_LSTM_cat4_con1_mse\n",
    "- mse, ('Maximum loss at epoch', '23', '=', '0.2438')\n",
    "\n",
    "##### catx4 continx3 \n",
    "multyinput_LSTM_cat4_con3_mse\n",
    "- mse, val_loss: 0.2125\n",
    "- mse, second try ('Maximum loss at epoch', '60', '=', '0.2147')\n",
    "- mae ('Maximum loss at epoch', '39', '=', '0.3133')\n",
    "\n",
    "\n",
    "\n",
    "#### predict median:\n",
    "- LSTM_512_drp0.2_mse_nogap_nanto0_notwinsorized_predict_median : epoch 34 = 0.2900\n",
    "- cat4: multyinput_LSTM_cat4_mse_nanto0_nowinsorized_predict_mean (should be predict median): epoch 26 = 0.1460\n",
    "- multyinput_LSTM_contin1_mse_nanto0_nowinsorized_nobuffer_predict_median: epoch 36 = 0.2874\n",
    "- multyinput_LSTM_cat3_contin1_mse_nanto0_nowinsorized_nobuffer_predict_median: epoch 37 = 0.2670\n",
    "- multioutput val_Y_ts_loss: 0.6162 - val_Y_median_loss: 0.2856\n",
    "- multioutput bilstm: val_Y_ts_loss: 0.6058 - val_Y_median_loss: 0.2820\n",
    "- cat 1 ,contin 1: Maximum loss at epoch 24 0.2800"
   ]
  },
  {
   "cell_type": "code",
   "execution_count": 41,
   "metadata": {
    "collapsed": true
   },
   "outputs": [],
   "source": [
    "# model.load_weights(\"weights/LSTM_512_drp0.2_nantomedian.h5\")"
   ]
  },
  {
   "cell_type": "code",
   "execution_count": 237,
   "metadata": {},
   "outputs": [
    {
     "name": "stdout",
     "output_type": "stream",
     "text": [
      "28544/29013 [============================>.] - ETA: 0s"
     ]
    }
   ],
   "source": [
    "val_preds = model.predict(map_valid,verbose=1,batch_size=128)\n",
    "# val_preds = model.predict(X_valid,verbose=1,batch_size=128)"
   ]
  },
  {
   "cell_type": "code",
   "execution_count": 66,
   "metadata": {},
   "outputs": [
    {
     "ename": "SyntaxError",
     "evalue": "invalid syntax (<ipython-input-66-84cce67890c4>, line 1)",
     "output_type": "error",
     "traceback": [
      "\u001b[0;36m  File \u001b[0;32m\"<ipython-input-66-84cce67890c4>\"\u001b[0;36m, line \u001b[0;32m1\u001b[0m\n\u001b[0;31m    15933  26170\u001b[0m\n\u001b[0m               ^\u001b[0m\n\u001b[0;31mSyntaxError\u001b[0m\u001b[0;31m:\u001b[0m invalid syntax\n"
     ]
    }
   ],
   "source": [
    "15933  26170"
   ]
  },
  {
   "cell_type": "code",
   "execution_count": 238,
   "metadata": {
    "collapsed": true
   },
   "outputs": [],
   "source": [
    "val_preds_inv = np.exp(val_preds)-1"
   ]
  },
  {
   "cell_type": "code",
   "execution_count": 239,
   "metadata": {},
   "outputs": [
    {
     "data": {
      "text/plain": [
       "(0.0, 6030001.5)"
      ]
     },
     "execution_count": 239,
     "metadata": {},
     "output_type": "execute_result"
    }
   ],
   "source": [
    "val_preds_inv.min() , val_preds_inv.max()"
   ]
  },
  {
   "cell_type": "code",
   "execution_count": 240,
   "metadata": {
    "collapsed": true
   },
   "outputs": [],
   "source": [
    "# Y_train = np.log1p(holdout.iloc[ix_train,1:].values)\n",
    "Y_valid = np.log1p(holdout.iloc[ix_valid,1:].values)"
   ]
  },
  {
   "cell_type": "code",
   "execution_count": 241,
   "metadata": {},
   "outputs": [
    {
     "name": "stderr",
     "output_type": "stream",
     "text": [
      "/home/ubuntu/anaconda2/lib/python2.7/site-packages/ipykernel/__main__.py:10: RuntimeWarning: invalid value encountered in divide\n"
     ]
    }
   ],
   "source": [
    "scores_simple = []\n",
    "for i in range(val_preds.shape[0]):\n",
    "#     scores_simple.append(smape(np.exp(Y_valid[i])-1 ,np.rint(np.expm1(val_preds[i]) )))\n",
    "    scores_simple.append(smape(np.exp(Y_valid[i])-1 ,np.rint([np.expm1(val_preds[i])]*60 )))\n",
    "\n",
    "scores_simple = np.array(scores_simple)\n"
   ]
  },
  {
   "cell_type": "code",
   "execution_count": 242,
   "metadata": {},
   "outputs": [
    {
     "data": {
      "text/plain": [
       "(0.0, 2.0, 0.46577228315852004, 0.30983121157016447)"
      ]
     },
     "execution_count": 242,
     "metadata": {},
     "output_type": "execute_result"
    }
   ],
   "source": [
    "scores_simple.min(),scores_simple.max(),scores_simple.mean(),scores_simple.std()"
   ]
  },
  {
   "cell_type": "code",
   "execution_count": 102,
   "metadata": {},
   "outputs": [
    {
     "data": {
      "text/plain": [
       "(0.0, 2.0, 0.46352698753805355, 0.31437741086815074)"
      ]
     },
     "execution_count": 102,
     "metadata": {},
     "output_type": "execute_result"
    }
   ],
   "source": [
    "scores_simple.min(),scores_simple.max(),scores_simple.mean(),scores_simple.std()"
   ]
  },
  {
   "cell_type": "code",
   "execution_count": 181,
   "metadata": {
    "scrolled": true
   },
   "outputs": [
    {
     "data": {
      "text/plain": [
       "(0.0, 2.0, 0.47164563051941771, 0.31165477763194954)"
      ]
     },
     "execution_count": 181,
     "metadata": {},
     "output_type": "execute_result"
    }
   ],
   "source": [
    "scores_simple.min(),scores_simple.max(),scores_simple.mean(),scores_simple.std()"
   ]
  },
  {
   "cell_type": "markdown",
   "metadata": {},
   "source": [
    "-predict median: (0.0, 2.0, 0.47164563051941771, 0.31165477763194954)\n"
   ]
  },
  {
   "cell_type": "code",
   "execution_count": 104,
   "metadata": {},
   "outputs": [
    {
     "data": {
      "text/plain": [
       "(0.0, 2.0, 0.3246142903582489, 0.22016414843827431)"
      ]
     },
     "execution_count": 104,
     "metadata": {},
     "output_type": "execute_result"
    }
   ],
   "source": [
    "scores = np.array(scores)\n",
    "scores.min(),scores.max(),scores.mean(),scores.std()"
   ]
  },
  {
   "cell_type": "code",
   "execution_count": 103,
   "metadata": {},
   "outputs": [
    {
     "data": {
      "text/plain": [
       "(array([  180.,   826.,  2720.,  3791.,  3921.,  3652.,  3180.,  2566.,\n",
       "         1962.,  1440.,  1027.,   725.,   566.,   430.,   356.,   270.,\n",
       "          230.,   172.,   130.,   113.,    82.,    77.,    49.,    54.,\n",
       "           38.,    37.,    28.,    46.,    47.,   298.]),\n",
       " array([ 0.        ,  0.06666667,  0.13333333,  0.2       ,  0.26666667,\n",
       "         0.33333333,  0.4       ,  0.46666667,  0.53333333,  0.6       ,\n",
       "         0.66666667,  0.73333333,  0.8       ,  0.86666667,  0.93333333,\n",
       "         1.        ,  1.06666667,  1.13333333,  1.2       ,  1.26666667,\n",
       "         1.33333333,  1.4       ,  1.46666667,  1.53333333,  1.6       ,\n",
       "         1.66666667,  1.73333333,  1.8       ,  1.86666667,  1.93333333,  2.        ]),\n",
       " <a list of 30 Patch objects>)"
      ]
     },
     "execution_count": 103,
     "metadata": {},
     "output_type": "execute_result"
    },
    {
     "data": {
      "image/png": "[encoded data removed]",
      "text/plain": [
       "<matplotlib.figure.Figure at 0x7f6321becad0>"
      ]
     },
     "metadata": {},
     "output_type": "display_data"
    }
   ],
   "source": [
    "plt.hist(np.array(scores_simple),bins=30)"
   ]
  },
  {
   "cell_type": "code",
   "execution_count": 282,
   "metadata": {},
   "outputs": [
    {
     "data": {
      "text/plain": [
       "(array([  273.,   553.,  2259.,  3605.,  4041.,  3870.,  3417.,  2789.,\n",
       "         2232.,  1598.,  1140.,   840.,   533.,   418.,   315.,   233.,\n",
       "          191.,   119.,   117.,    81.,    59.,    47.,    44.,    40.,\n",
       "           24.,    28.,    21.,    24.,    22.,    80.]),\n",
       " array([ 0.        ,  0.06666667,  0.13333333,  0.2       ,  0.26666667,\n",
       "         0.33333333,  0.4       ,  0.46666667,  0.53333333,  0.6       ,\n",
       "         0.66666667,  0.73333333,  0.8       ,  0.86666667,  0.93333333,\n",
       "         1.        ,  1.06666667,  1.13333333,  1.2       ,  1.26666667,\n",
       "         1.33333333,  1.4       ,  1.46666667,  1.53333333,  1.6       ,\n",
       "         1.66666667,  1.73333333,  1.8       ,  1.86666667,  1.93333333,  2.        ]),\n",
       " <a list of 30 Patch objects>)"
      ]
     },
     "execution_count": 282,
     "metadata": {},
     "output_type": "execute_result"
    },
    {
     "data": {
      "image/png": "[encoded data removed]",
      "text/plain": [
       "<matplotlib.figure.Figure at 0x7f99a7edd310>"
      ]
     },
     "metadata": {},
     "output_type": "display_data"
    }
   ],
   "source": [
    "plt.hist(np.array(scores_simple),bins=30)"
   ]
  },
  {
   "cell_type": "code",
   "execution_count": 79,
   "metadata": {},
   "outputs": [
    {
     "name": "stderr",
     "output_type": "stream",
     "text": [
      "Widget Javascript not detected.  It may not be installed or enabled properly.\n"
     ]
    },
    {
     "data": {
      "application/vnd.jupyter.widget-view+json": {
       "model_id": "8367b48a5d0c4b34bbdf57c6c1c85f5c"
      }
     },
     "metadata": {},
     "output_type": "display_data"
    },
    {
     "name": "stderr",
     "output_type": "stream",
     "text": [
      "/home/ubuntu/anaconda2/lib/python2.7/site-packages/ipykernel/__main__.py:9: RuntimeWarning: invalid value encountered in divide\n"
     ]
    },
    {
     "name": "stdout",
     "output_type": "stream",
     "text": [
      "\n"
     ]
    }
   ],
   "source": [
    "scores = []\n",
    "for i in tqdm_notebook(range(val_preds.shape[0])):\n",
    "    scores.append(smape(np.exp(Y_valid[i])-1 ,np.rint(np.exp(val_preds[i])-1 )))"
   ]
  },
  {
   "cell_type": "code",
   "execution_count": 87,
   "metadata": {},
   "outputs": [
    {
     "data": {
      "text/plain": [
       "(array([  3.77000000e+02,   3.77400000e+03,   5.87600000e+03,\n",
       "          4.38700000e+03,   3.46200000e+03,   3.02300000e+03,\n",
       "          2.39100000e+03,   1.71600000e+03,   1.19700000e+03,\n",
       "          8.02000000e+02,   5.19000000e+02,   3.94000000e+02,\n",
       "          2.54000000e+02,   1.72000000e+02,   1.69000000e+02,\n",
       "          1.29000000e+02,   8.80000000e+01,   7.10000000e+01,\n",
       "          5.70000000e+01,   3.80000000e+01,   2.50000000e+01,\n",
       "          2.30000000e+01,   1.90000000e+01,   1.20000000e+01,\n",
       "          1.20000000e+01,   8.00000000e+00,   3.00000000e+00,\n",
       "          5.00000000e+00,   6.00000000e+00,   4.00000000e+00]),\n",
       " array([ 0.        ,  0.06666667,  0.13333333,  0.2       ,  0.26666667,\n",
       "         0.33333333,  0.4       ,  0.46666667,  0.53333333,  0.6       ,\n",
       "         0.66666667,  0.73333333,  0.8       ,  0.86666667,  0.93333333,\n",
       "         1.        ,  1.06666667,  1.13333333,  1.2       ,  1.26666667,\n",
       "         1.33333333,  1.4       ,  1.46666667,  1.53333333,  1.6       ,\n",
       "         1.66666667,  1.73333333,  1.8       ,  1.86666667,  1.93333333,  2.        ]),\n",
       " <a list of 30 Patch objects>)"
      ]
     },
     "execution_count": 87,
     "metadata": {},
     "output_type": "execute_result"
    },
    {
     "data": {
      "image/png": "[encoded data removed]",
      "text/plain": [
       "<matplotlib.figure.Figure at 0x7fe82776b8d0>"
      ]
     },
     "metadata": {},
     "output_type": "display_data"
    }
   ],
   "source": [
    "plt.hist(np.array(scores),bins=30)"
   ]
  },
  {
   "cell_type": "code",
   "execution_count": 70,
   "metadata": {},
   "outputs": [
    {
     "data": {
      "text/plain": [
       "(60,)"
      ]
     },
     "execution_count": 70,
     "metadata": {},
     "output_type": "execute_result"
    }
   ],
   "source": [
    "Y_valid[ts_id].shape"
   ]
  },
  {
   "cell_type": "code",
   "execution_count": 155,
   "metadata": {},
   "outputs": [
    {
     "name": "stdout",
     "output_type": "stream",
     "text": [
      "8315\n",
      "median: 273.0\n",
      "SMAPE: 0.377465972131\n"
     ]
    },
    {
     "data": {
      "image/png": "[encoded data removed]",
      "text/plain": [
       "<matplotlib.figure.Figure at 0x7f62abd51950>"
      ]
     },
     "metadata": {},
     "output_type": "display_data"
    }
   ],
   "source": [
    "ts_id = np.random.randint(val_preds.shape[0]) # take a random sample\n",
    "print (ts_id)\n",
    "\n",
    "# md = np.median(np.exp(X_valid[ts_id].ravel()))-1\n",
    "md = np.rint(np.exp(np.median(Y_valid[ts_id])))\n",
    "print \"median:\",md\n",
    "print \"SMAPE:\",smape(np.exp(Y_valid[ts_id])-1 , [np.exp(val_preds[ts_id])-1]*60)  #np.rint(np.exp(val_preds[ts_id])-1 ))\n",
    "\n",
    "plt.plot(np.exp(Y_valid[ts_id])-1, label = 'Actual')\n",
    "# plt.plot(np.exp(val_preds[ts_id])-1,  label = 'Predicted')\n",
    "plt.plot([np.rint(np.exp(val_preds[ts_id])-1)]*60,  label = 'Predicted')\n",
    "plt.plot([md]*60,label='median')\n",
    "# plt.xlabel('Index of Page')\n",
    "# plt.ylabel('Mean Web View')\n",
    "\n",
    "plt.legend()\n",
    "\n",
    "plt.show()"
   ]
  },
  {
   "cell_type": "markdown",
   "metadata": {},
   "source": [
    "### Make prediction"
   ]
  },
  {
   "cell_type": "code",
   "execution_count": 163,
   "metadata": {
    "collapsed": true
   },
   "outputs": [],
   "source": [
    "def winsorize_row_0(row,threshold=0.95,fillna=True):\n",
    "    median =  row.quantile(0.5)#np.median(row[1:])\n",
    "    values =  row\n",
    "    \n",
    "    \n",
    "    if  fillna:\n",
    "        if not np.isnan(median):\n",
    "            values.fillna(median, inplace=True)\n",
    "        else:\n",
    "            values.fillna(0, inplace=True)\n",
    "\n",
    "    return values"
   ]
  },
  {
   "cell_type": "code",
   "execution_count": 104,
   "metadata": {
    "collapsed": true
   },
   "outputs": [],
   "source": [
    "key_1 = pd.read_csv('data/key_1.csv')\n",
    "# train = pd.read_csv('data/train_1.csv')\n",
    "# ss_1 = pd.read_csv('data/sample_submission_1.csv')\n"
   ]
  },
  {
   "cell_type": "code",
   "execution_count": 105,
   "metadata": {},
   "outputs": [
    {
     "data": {
      "text/plain": [
       "((8703780, 2), (145063, 551))"
      ]
     },
     "execution_count": 105,
     "metadata": {},
     "output_type": "execute_result"
    }
   ],
   "source": [
    "key_1.shape, dev.shape"
   ]
  },
  {
   "cell_type": "code",
   "execution_count": 106,
   "metadata": {},
   "outputs": [
    {
     "data": {
      "text/plain": [
       "(145063, 551)"
      ]
     },
     "execution_count": 106,
     "metadata": {},
     "output_type": "execute_result"
    }
   ],
   "source": [
    "dev.shape"
   ]
  },
  {
   "cell_type": "code",
   "execution_count": 107,
   "metadata": {
    "scrolled": true
   },
   "outputs": [
    {
     "data": {
      "text/plain": [
       "490"
      ]
     },
     "execution_count": 107,
     "metadata": {},
     "output_type": "execute_result"
    }
   ],
   "source": [
    "X_train.shape[2] "
   ]
  },
  {
   "cell_type": "code",
   "execution_count": 243,
   "metadata": {},
   "outputs": [
    {
     "name": "stdout",
     "output_type": "stream",
     "text": [
      "(61, 551)\n"
     ]
    }
   ],
   "source": [
    "window_end = dev.shape[1] #-10\n",
    "window_start  = window_end - X_train.shape[2] \n",
    "print (window_start, window_end)\n"
   ]
  },
  {
   "cell_type": "code",
   "execution_count": 244,
   "metadata": {
    "collapsed": true
   },
   "outputs": [],
   "source": [
    "# dev_nantomedian_test = dev.iloc[:,window_start:window_end] #.apply(winsorize_row_0,axis=1)\n",
    "\n",
    "# dev_nantomedian_test.tail(2)"
   ]
  },
  {
   "cell_type": "code",
   "execution_count": 245,
   "metadata": {
    "collapsed": true
   },
   "outputs": [],
   "source": [
    "\n",
    "X_test = dev.iloc[:,window_start:window_end] \n",
    "#dev_nantomedian_test #dev_nantomedian_test[list(dev.columns[window_start:window_end])]\n",
    "X_test = np.log1p(X_test.values)\n",
    "X_test = X_test.reshape((-1,1,X_test.shape[1]))"
   ]
  },
  {
   "cell_type": "code",
   "execution_count": 246,
   "metadata": {},
   "outputs": [
    {
     "data": {
      "text/plain": [
       "((116050, 1), (29013, 1))"
      ]
     },
     "execution_count": 246,
     "metadata": {},
     "output_type": "execute_result"
    }
   ],
   "source": [
    "cat_map_train.shape , cat_map_valid.shape"
   ]
  },
  {
   "cell_type": "code",
   "execution_count": 247,
   "metadata": {},
   "outputs": [],
   "source": [
    "cat_map_test = cat_preproc(page_details) #test set is full training set"
   ]
  },
  {
   "cell_type": "markdown",
   "metadata": {},
   "source": [
    "##### recalculate numerical features for late window"
   ]
  },
  {
   "cell_type": "code",
   "execution_count": 73,
   "metadata": {
    "collapsed": true
   },
   "outputs": [],
   "source": [
    "# raw_train.to_csv(\"data/cache/raw_train_winsorized_with_na.csv\",index=False)"
   ]
  },
  {
   "cell_type": "code",
   "execution_count": 96,
   "metadata": {},
   "outputs": [
    {
     "name": "stderr",
     "output_type": "stream",
     "text": [
      "/home/ubuntu/anaconda2/lib/python2.7/site-packages/ipykernel/__main__.py:2: SettingWithCopyWarning: \n",
      "A value is trying to be set on a copy of a slice from a DataFrame.\n",
      "Try using .loc[row_indexer,col_indexer] = value instead\n",
      "\n",
      "See the caveats in the documentation: http://pandas.pydata.org/pandas-docs/stable/indexing.html#indexing-view-versus-copy\n",
      "  from ipykernel import kernelapp as app\n"
     ]
    }
   ],
   "source": [
    "# raw_train_late_window = dev[['Page']+list(dev.columns[window_start:window_end])]\n",
    "# raw_train_late_window[\"Median_of_Medians\"] = raw_train_late_window.apply(get_window_features,axis=1)"
   ]
  },
  {
   "cell_type": "code",
   "execution_count": 114,
   "metadata": {},
   "outputs": [],
   "source": [
    "# raw_train_late_window = raw_train[['Page']+list(raw_train.columns[window_start:window_end])]\n",
    "\n",
    "\n",
    "# raw_train_late_window[\"Median_of_Medians\"] = raw_train_late_window.fillna(0).apply(get_window_features,axis=1)\n",
    "# raw_train_late_window[\"num_nulls\"] = raw_train_late_window.isnull().sum(axis=1)\n",
    "# raw_train_late_window[\"num_zeros\"] = raw_train_late_window.apply(\n",
    "#     lambda x: np.count_nonzero(np.where(x[1:-2].values==0.)), axis=1)\n",
    "\n",
    "\n",
    "\n",
    "# raw_train_late_window[[\"Page\",\"num_zeros\",\"num_nulls\",\"Median_of_Medians\"]].to_csv(\"data/cache/Continx4_test.csv\",index=False) \n",
    "# raw_train_late_window = pd.read_csv(\"data/cache/Continx4_test.csv\")\n",
    "\n",
    "# raw_train_late_window[[\"Page\",\"Median_of_Medians\"]].to_csv(\"data/cache/Continx1_mom_test.csv\",index=False) \n",
    "raw_train_late_window = pd.read_csv(\"data/cache/Continx1_mom_test.csv\")\n",
    "contin_map_test = contin_preproc(raw_train_late_window)\n",
    "   \n",
    "\n"
   ]
  },
  {
   "cell_type": "code",
   "execution_count": 248,
   "metadata": {},
   "outputs": [],
   "source": [
    "\n",
    "# map_test = [contin_map_test,X_test]\n",
    "\n",
    "map_test = split_cols(cat_map_test) + [contin_map_test] + [X_test]\n"
   ]
  },
  {
   "cell_type": "code",
   "execution_count": 100,
   "metadata": {},
   "outputs": [
    {
     "data": {
      "text/plain": [
       "67264258.0"
      ]
     },
     "execution_count": 100,
     "metadata": {},
     "output_type": "execute_result"
    }
   ],
   "source": [
    "np.max(dev.iloc[:,5:].values)"
   ]
  },
  {
   "cell_type": "code",
   "execution_count": 249,
   "metadata": {},
   "outputs": [
    {
     "name": "stdout",
     "output_type": "stream",
     "text": [
      "144512/145063 [============================>.] - ETA: 0s"
     ]
    }
   ],
   "source": [
    "# map_test = split_cols(cat_map_test) + [X_test]\n",
    "\n",
    "test_preds = model.predict(map_test,verbose=1,batch_size=128)\n"
   ]
  },
  {
   "cell_type": "code",
   "execution_count": 250,
   "metadata": {
    "collapsed": true,
    "scrolled": true
   },
   "outputs": [],
   "source": [
    "# test_preds = model.predict(X_test,batch_size=128)\n",
    "\n",
    "\n",
    "test_preds= (np.rint(np.expm1(test_preds))).astype(np.int64)\n"
   ]
  },
  {
   "cell_type": "code",
   "execution_count": 216,
   "metadata": {
    "collapsed": true
   },
   "outputs": [],
   "source": [
    "test_preds = cum_test_preds\n",
    "test_preds= (np.rint(np.expm1(test_preds))).astype(np.int64)\n"
   ]
  },
  {
   "cell_type": "code",
   "execution_count": 251,
   "metadata": {},
   "outputs": [
    {
     "data": {
      "text/plain": [
       "(0, 6389392, 40930)"
      ]
     },
     "execution_count": 251,
     "metadata": {},
     "output_type": "execute_result"
    }
   ],
   "source": [
    "test_preds.min(),test_preds.max(),test_preds.argmax()"
   ]
  },
  {
   "cell_type": "code",
   "execution_count": 252,
   "metadata": {},
   "outputs": [
    {
     "data": {
      "text/plain": [
       "(array([40930]), array([0]))"
      ]
     },
     "execution_count": 252,
     "metadata": {},
     "output_type": "execute_result"
    }
   ],
   "source": [
    "np.where(test_preds==6389392)"
   ]
  },
  {
   "cell_type": "markdown",
   "metadata": {},
   "source": [
    "#### create submission df"
   ]
  },
  {
   "cell_type": "code",
   "execution_count": 253,
   "metadata": {
    "collapsed": true
   },
   "outputs": [],
   "source": [
    "test_dates = key_1.iloc[0:61].Page.str.split(\"_\")\n",
    "date_columns = []\n",
    "for i in range(60):\n",
    "    date_columns.append (test_dates[i][4])"
   ]
  },
  {
   "cell_type": "code",
   "execution_count": 254,
   "metadata": {},
   "outputs": [
    {
     "data": {
      "text/html": [
       "<div>\n",
       "<style>\n",
       "    .dataframe thead tr:only-child th {\n",
       "        text-align: right;\n",
       "    }\n",
       "\n",
       "    .dataframe thead th {\n",
       "        text-align: left;\n",
       "    }\n",
       "\n",
       "    .dataframe tbody tr th {\n",
       "        vertical-align: top;\n",
       "    }\n",
       "</style>\n",
       "<table border=\"1\" class=\"dataframe\">\n",
       "  <thead>\n",
       "    <tr style=\"text-align: right;\">\n",
       "      <th></th>\n",
       "      <th>2017-01-01</th>\n",
       "      <th>2017-01-02</th>\n",
       "      <th>2017-01-03</th>\n",
       "      <th>2017-01-04</th>\n",
       "      <th>2017-01-05</th>\n",
       "      <th>2017-01-06</th>\n",
       "      <th>2017-01-07</th>\n",
       "      <th>2017-01-08</th>\n",
       "      <th>2017-01-09</th>\n",
       "      <th>2017-01-10</th>\n",
       "      <th>...</th>\n",
       "      <th>2017-02-20</th>\n",
       "      <th>2017-02-21</th>\n",
       "      <th>2017-02-22</th>\n",
       "      <th>2017-02-23</th>\n",
       "      <th>2017-02-24</th>\n",
       "      <th>2017-02-25</th>\n",
       "      <th>2017-02-26</th>\n",
       "      <th>2017-02-27</th>\n",
       "      <th>2017-02-28</th>\n",
       "      <th>2017-03-01</th>\n",
       "    </tr>\n",
       "    <tr>\n",
       "      <th>Page</th>\n",
       "      <th></th>\n",
       "      <th></th>\n",
       "      <th></th>\n",
       "      <th></th>\n",
       "      <th></th>\n",
       "      <th></th>\n",
       "      <th></th>\n",
       "      <th></th>\n",
       "      <th></th>\n",
       "      <th></th>\n",
       "      <th></th>\n",
       "      <th></th>\n",
       "      <th></th>\n",
       "      <th></th>\n",
       "      <th></th>\n",
       "      <th></th>\n",
       "      <th></th>\n",
       "      <th></th>\n",
       "      <th></th>\n",
       "      <th></th>\n",
       "      <th></th>\n",
       "    </tr>\n",
       "  </thead>\n",
       "  <tbody>\n",
       "    <tr>\n",
       "      <th>2NE1_zh.wikipedia.org_all-access_spider</th>\n",
       "      <td>1.0</td>\n",
       "      <td>1.0</td>\n",
       "      <td>1.0</td>\n",
       "      <td>1.0</td>\n",
       "      <td>1.0</td>\n",
       "      <td>1.0</td>\n",
       "      <td>1.0</td>\n",
       "      <td>1.0</td>\n",
       "      <td>1.0</td>\n",
       "      <td>1.0</td>\n",
       "      <td>...</td>\n",
       "      <td>1.0</td>\n",
       "      <td>1.0</td>\n",
       "      <td>1.0</td>\n",
       "      <td>1.0</td>\n",
       "      <td>1.0</td>\n",
       "      <td>1.0</td>\n",
       "      <td>1.0</td>\n",
       "      <td>1.0</td>\n",
       "      <td>1.0</td>\n",
       "      <td>1.0</td>\n",
       "    </tr>\n",
       "    <tr>\n",
       "      <th>2PM_zh.wikipedia.org_all-access_spider</th>\n",
       "      <td>1.0</td>\n",
       "      <td>1.0</td>\n",
       "      <td>1.0</td>\n",
       "      <td>1.0</td>\n",
       "      <td>1.0</td>\n",
       "      <td>1.0</td>\n",
       "      <td>1.0</td>\n",
       "      <td>1.0</td>\n",
       "      <td>1.0</td>\n",
       "      <td>1.0</td>\n",
       "      <td>...</td>\n",
       "      <td>1.0</td>\n",
       "      <td>1.0</td>\n",
       "      <td>1.0</td>\n",
       "      <td>1.0</td>\n",
       "      <td>1.0</td>\n",
       "      <td>1.0</td>\n",
       "      <td>1.0</td>\n",
       "      <td>1.0</td>\n",
       "      <td>1.0</td>\n",
       "      <td>1.0</td>\n",
       "    </tr>\n",
       "  </tbody>\n",
       "</table>\n",
       "<p>2 rows × 60 columns</p>\n",
       "</div>"
      ],
      "text/plain": [
       "                                         2017-01-01  2017-01-02  2017-01-03  \\\n",
       "Page                                                                          \n",
       "2NE1_zh.wikipedia.org_all-access_spider         1.0         1.0         1.0   \n",
       "2PM_zh.wikipedia.org_all-access_spider          1.0         1.0         1.0   \n",
       "\n",
       "                                         2017-01-04  2017-01-05  2017-01-06  \\\n",
       "Page                                                                          \n",
       "2NE1_zh.wikipedia.org_all-access_spider         1.0         1.0         1.0   \n",
       "2PM_zh.wikipedia.org_all-access_spider          1.0         1.0         1.0   \n",
       "\n",
       "                                         2017-01-07  2017-01-08  2017-01-09  \\\n",
       "Page                                                                          \n",
       "2NE1_zh.wikipedia.org_all-access_spider         1.0         1.0         1.0   \n",
       "2PM_zh.wikipedia.org_all-access_spider          1.0         1.0         1.0   \n",
       "\n",
       "                                         2017-01-10     ...      2017-02-20  \\\n",
       "Page                                                    ...                   \n",
       "2NE1_zh.wikipedia.org_all-access_spider         1.0     ...             1.0   \n",
       "2PM_zh.wikipedia.org_all-access_spider          1.0     ...             1.0   \n",
       "\n",
       "                                         2017-02-21  2017-02-22  2017-02-23  \\\n",
       "Page                                                                          \n",
       "2NE1_zh.wikipedia.org_all-access_spider         1.0         1.0         1.0   \n",
       "2PM_zh.wikipedia.org_all-access_spider          1.0         1.0         1.0   \n",
       "\n",
       "                                         2017-02-24  2017-02-25  2017-02-26  \\\n",
       "Page                                                                          \n",
       "2NE1_zh.wikipedia.org_all-access_spider         1.0         1.0         1.0   \n",
       "2PM_zh.wikipedia.org_all-access_spider          1.0         1.0         1.0   \n",
       "\n",
       "                                         2017-02-27  2017-02-28  2017-03-01  \n",
       "Page                                                                         \n",
       "2NE1_zh.wikipedia.org_all-access_spider         1.0         1.0         1.0  \n",
       "2PM_zh.wikipedia.org_all-access_spider          1.0         1.0         1.0  \n",
       "\n",
       "[2 rows x 60 columns]"
      ]
     },
     "execution_count": 254,
     "metadata": {},
     "output_type": "execute_result"
    }
   ],
   "source": [
    "preds_df = pd.DataFrame(index=dev.Page,data=np.ones((test_preds.shape[0],60)),columns=date_columns)\n",
    "preds_df.head(2)"
   ]
  },
  {
   "cell_type": "code",
   "execution_count": 255,
   "metadata": {
    "collapsed": true
   },
   "outputs": [],
   "source": [
    "from tqdm import tqdm_notebook,tqdm"
   ]
  },
  {
   "cell_type": "code",
   "execution_count": 256,
   "metadata": {
    "scrolled": true
   },
   "outputs": [
    {
     "name": "stderr",
     "output_type": "stream",
     "text": [
      "100%|██████████| 145063/145063 [00:19<00:00, 7408.69it/s]\n"
     ]
    }
   ],
   "source": [
    "for i in tqdm(range(len(preds_df))):\n",
    "    preds_df.iloc[i] = test_preds[i]"
   ]
  },
  {
   "cell_type": "code",
   "execution_count": 258,
   "metadata": {},
   "outputs": [
    {
     "data": {
      "text/html": [
       "<div>\n",
       "<style>\n",
       "    .dataframe thead tr:only-child th {\n",
       "        text-align: right;\n",
       "    }\n",
       "\n",
       "    .dataframe thead th {\n",
       "        text-align: left;\n",
       "    }\n",
       "\n",
       "    .dataframe tbody tr th {\n",
       "        vertical-align: top;\n",
       "    }\n",
       "</style>\n",
       "<table border=\"1\" class=\"dataframe\">\n",
       "  <thead>\n",
       "    <tr style=\"text-align: right;\">\n",
       "      <th></th>\n",
       "      <th>2017-01-01</th>\n",
       "      <th>2017-01-02</th>\n",
       "      <th>2017-01-03</th>\n",
       "      <th>2017-01-04</th>\n",
       "      <th>2017-01-05</th>\n",
       "      <th>2017-01-06</th>\n",
       "      <th>2017-01-07</th>\n",
       "      <th>2017-01-08</th>\n",
       "      <th>2017-01-09</th>\n",
       "      <th>2017-01-10</th>\n",
       "      <th>...</th>\n",
       "      <th>2017-02-20</th>\n",
       "      <th>2017-02-21</th>\n",
       "      <th>2017-02-22</th>\n",
       "      <th>2017-02-23</th>\n",
       "      <th>2017-02-24</th>\n",
       "      <th>2017-02-25</th>\n",
       "      <th>2017-02-26</th>\n",
       "      <th>2017-02-27</th>\n",
       "      <th>2017-02-28</th>\n",
       "      <th>2017-03-01</th>\n",
       "    </tr>\n",
       "    <tr>\n",
       "      <th>Page</th>\n",
       "      <th></th>\n",
       "      <th></th>\n",
       "      <th></th>\n",
       "      <th></th>\n",
       "      <th></th>\n",
       "      <th></th>\n",
       "      <th></th>\n",
       "      <th></th>\n",
       "      <th></th>\n",
       "      <th></th>\n",
       "      <th></th>\n",
       "      <th></th>\n",
       "      <th></th>\n",
       "      <th></th>\n",
       "      <th></th>\n",
       "      <th></th>\n",
       "      <th></th>\n",
       "      <th></th>\n",
       "      <th></th>\n",
       "      <th></th>\n",
       "      <th></th>\n",
       "    </tr>\n",
       "  </thead>\n",
       "  <tbody>\n",
       "    <tr>\n",
       "      <th>2NE1_zh.wikipedia.org_all-access_spider</th>\n",
       "      <td>20.0</td>\n",
       "      <td>20.0</td>\n",
       "      <td>20.0</td>\n",
       "      <td>20.0</td>\n",
       "      <td>20.0</td>\n",
       "      <td>20.0</td>\n",
       "      <td>20.0</td>\n",
       "      <td>20.0</td>\n",
       "      <td>20.0</td>\n",
       "      <td>20.0</td>\n",
       "      <td>...</td>\n",
       "      <td>20.0</td>\n",
       "      <td>20.0</td>\n",
       "      <td>20.0</td>\n",
       "      <td>20.0</td>\n",
       "      <td>20.0</td>\n",
       "      <td>20.0</td>\n",
       "      <td>20.0</td>\n",
       "      <td>20.0</td>\n",
       "      <td>20.0</td>\n",
       "      <td>20.0</td>\n",
       "    </tr>\n",
       "    <tr>\n",
       "      <th>2PM_zh.wikipedia.org_all-access_spider</th>\n",
       "      <td>23.0</td>\n",
       "      <td>23.0</td>\n",
       "      <td>23.0</td>\n",
       "      <td>23.0</td>\n",
       "      <td>23.0</td>\n",
       "      <td>23.0</td>\n",
       "      <td>23.0</td>\n",
       "      <td>23.0</td>\n",
       "      <td>23.0</td>\n",
       "      <td>23.0</td>\n",
       "      <td>...</td>\n",
       "      <td>23.0</td>\n",
       "      <td>23.0</td>\n",
       "      <td>23.0</td>\n",
       "      <td>23.0</td>\n",
       "      <td>23.0</td>\n",
       "      <td>23.0</td>\n",
       "      <td>23.0</td>\n",
       "      <td>23.0</td>\n",
       "      <td>23.0</td>\n",
       "      <td>23.0</td>\n",
       "    </tr>\n",
       "  </tbody>\n",
       "</table>\n",
       "<p>2 rows × 60 columns</p>\n",
       "</div>"
      ],
      "text/plain": [
       "                                         2017-01-01  2017-01-02  2017-01-03  \\\n",
       "Page                                                                          \n",
       "2NE1_zh.wikipedia.org_all-access_spider        20.0        20.0        20.0   \n",
       "2PM_zh.wikipedia.org_all-access_spider         23.0        23.0        23.0   \n",
       "\n",
       "                                         2017-01-04  2017-01-05  2017-01-06  \\\n",
       "Page                                                                          \n",
       "2NE1_zh.wikipedia.org_all-access_spider        20.0        20.0        20.0   \n",
       "2PM_zh.wikipedia.org_all-access_spider         23.0        23.0        23.0   \n",
       "\n",
       "                                         2017-01-07  2017-01-08  2017-01-09  \\\n",
       "Page                                                                          \n",
       "2NE1_zh.wikipedia.org_all-access_spider        20.0        20.0        20.0   \n",
       "2PM_zh.wikipedia.org_all-access_spider         23.0        23.0        23.0   \n",
       "\n",
       "                                         2017-01-10     ...      2017-02-20  \\\n",
       "Page                                                    ...                   \n",
       "2NE1_zh.wikipedia.org_all-access_spider        20.0     ...            20.0   \n",
       "2PM_zh.wikipedia.org_all-access_spider         23.0     ...            23.0   \n",
       "\n",
       "                                         2017-02-21  2017-02-22  2017-02-23  \\\n",
       "Page                                                                          \n",
       "2NE1_zh.wikipedia.org_all-access_spider        20.0        20.0        20.0   \n",
       "2PM_zh.wikipedia.org_all-access_spider         23.0        23.0        23.0   \n",
       "\n",
       "                                         2017-02-24  2017-02-25  2017-02-26  \\\n",
       "Page                                                                          \n",
       "2NE1_zh.wikipedia.org_all-access_spider        20.0        20.0        20.0   \n",
       "2PM_zh.wikipedia.org_all-access_spider         23.0        23.0        23.0   \n",
       "\n",
       "                                         2017-02-27  2017-02-28  2017-03-01  \n",
       "Page                                                                         \n",
       "2NE1_zh.wikipedia.org_all-access_spider        20.0        20.0        20.0  \n",
       "2PM_zh.wikipedia.org_all-access_spider         23.0        23.0        23.0  \n",
       "\n",
       "[2 rows x 60 columns]"
      ]
     },
     "execution_count": 258,
     "metadata": {},
     "output_type": "execute_result"
    }
   ],
   "source": [
    "preds_df.head(2)"
   ]
  },
  {
   "cell_type": "code",
   "execution_count": 169,
   "metadata": {},
   "outputs": [
    {
     "data": {
      "text/plain": [
       "array([1225175])"
      ]
     },
     "execution_count": 169,
     "metadata": {},
     "output_type": "execute_result"
    }
   ],
   "source": [
    "test_preds[116196]"
   ]
  },
  {
   "cell_type": "code",
   "execution_count": 260,
   "metadata": {},
   "outputs": [
    {
     "name": "stdout",
     "output_type": "stream",
     "text": [
      "median: 1582.0\n"
     ]
    },
    {
     "data": {
      "image/png": "[encoded data removed]",
      "text/plain": [
       "<matplotlib.figure.Figure at 0x7f6212184e90>"
      ]
     },
     "metadata": {},
     "output_type": "display_data"
    }
   ],
   "source": [
    "ts_id = 40930#116196#40930\n",
    "# np.random.randint(dev.shape[0]) # take a random sample\n",
    "# print (ts_id)\n",
    "\n",
    "#67049\n",
    "\n",
    "md = np.median(np.rint(np.exp(X_test[ts_id].ravel())-1))\n",
    "print \"median:\",md\n",
    "# print \"SMAPE:\",smape(np.exp(Y_valid[ts_id])-1 ,np.rint(np.exp(val_preds[ts_id])-1 ))\n",
    "\n",
    "plt.plot(np.expm1(X_test[ts_id,0,-60:]), label = 'last 60 day window')\n",
    "# plt.plot(test_preds[ts_id],  label = 'Predicted')\n",
    "plt.plot([md]*60,label='median')\n",
    "# plt.xlabel('Index of Page')\n",
    "# plt.ylabel('Mean Web View')\n",
    "\n",
    "plt.legend()\n",
    "\n",
    "plt.show()"
   ]
  },
  {
   "cell_type": "markdown",
   "metadata": {},
   "source": [
    "### Submission"
   ]
  },
  {
   "cell_type": "code",
   "execution_count": 261,
   "metadata": {},
   "outputs": [
    {
     "data": {
      "text/html": [
       "<div>\n",
       "<style>\n",
       "    .dataframe thead tr:only-child th {\n",
       "        text-align: right;\n",
       "    }\n",
       "\n",
       "    .dataframe thead th {\n",
       "        text-align: left;\n",
       "    }\n",
       "\n",
       "    .dataframe tbody tr th {\n",
       "        vertical-align: top;\n",
       "    }\n",
       "</style>\n",
       "<table border=\"1\" class=\"dataframe\">\n",
       "  <thead>\n",
       "    <tr style=\"text-align: right;\">\n",
       "      <th></th>\n",
       "      <th>Page</th>\n",
       "      <th>date</th>\n",
       "      <th>Visits</th>\n",
       "    </tr>\n",
       "  </thead>\n",
       "  <tbody>\n",
       "    <tr>\n",
       "      <th>0</th>\n",
       "      <td>2NE1_zh.wikipedia.org_all-access_spider</td>\n",
       "      <td>2017-01-01</td>\n",
       "      <td>20.0</td>\n",
       "    </tr>\n",
       "    <tr>\n",
       "      <th>1</th>\n",
       "      <td>2PM_zh.wikipedia.org_all-access_spider</td>\n",
       "      <td>2017-01-01</td>\n",
       "      <td>23.0</td>\n",
       "    </tr>\n",
       "    <tr>\n",
       "      <th>2</th>\n",
       "      <td>3C_zh.wikipedia.org_all-access_spider</td>\n",
       "      <td>2017-01-01</td>\n",
       "      <td>5.0</td>\n",
       "    </tr>\n",
       "    <tr>\n",
       "      <th>3</th>\n",
       "      <td>4minute_zh.wikipedia.org_all-access_spider</td>\n",
       "      <td>2017-01-01</td>\n",
       "      <td>18.0</td>\n",
       "    </tr>\n",
       "    <tr>\n",
       "      <th>4</th>\n",
       "      <td>52_Hz_I_Love_You_zh.wikipedia.org_all-access_s...</td>\n",
       "      <td>2017-01-01</td>\n",
       "      <td>14.0</td>\n",
       "    </tr>\n",
       "  </tbody>\n",
       "</table>\n",
       "</div>"
      ],
      "text/plain": [
       "                                                Page        date  Visits\n",
       "0            2NE1_zh.wikipedia.org_all-access_spider  2017-01-01    20.0\n",
       "1             2PM_zh.wikipedia.org_all-access_spider  2017-01-01    23.0\n",
       "2              3C_zh.wikipedia.org_all-access_spider  2017-01-01     5.0\n",
       "3         4minute_zh.wikipedia.org_all-access_spider  2017-01-01    18.0\n",
       "4  52_Hz_I_Love_You_zh.wikipedia.org_all-access_s...  2017-01-01    14.0"
      ]
     },
     "execution_count": 261,
     "metadata": {},
     "output_type": "execute_result"
    }
   ],
   "source": [
    "preds_df.reset_index(inplace=True)\n",
    "preds_df = preds_df.melt(id_vars=\"Page\",var_name='date', value_name='Visits')\n",
    "\n",
    "preds_df.head(5)\n"
   ]
  },
  {
   "cell_type": "code",
   "execution_count": 262,
   "metadata": {
    "collapsed": true
   },
   "outputs": [],
   "source": [
    "predicted_visists = preds_df.Visits"
   ]
  },
  {
   "cell_type": "code",
   "execution_count": 263,
   "metadata": {
    "collapsed": true
   },
   "outputs": [],
   "source": [
    "# preds_df.to_csv(\"data/cache/preds_df.csv\",index=False)\n",
    "preds_df= pd.read_csv(\"data/cache/preds_df.csv\")"
   ]
  },
  {
   "cell_type": "code",
   "execution_count": 264,
   "metadata": {
    "collapsed": true
   },
   "outputs": [],
   "source": [
    "preds_df.Visits = predicted_visists"
   ]
  },
  {
   "cell_type": "code",
   "execution_count": 265,
   "metadata": {
    "collapsed": true
   },
   "outputs": [],
   "source": [
    "submission = pd.merge(key_1,preds_df[[\"Page\",\"Visits\"]],on=\"Page\")"
   ]
  },
  {
   "cell_type": "code",
   "execution_count": 266,
   "metadata": {},
   "outputs": [
    {
     "data": {
      "text/plain": [
       "Page      0\n",
       "Id        0\n",
       "Visits    0\n",
       "dtype: int64"
      ]
     },
     "execution_count": 266,
     "metadata": {},
     "output_type": "execute_result"
    }
   ],
   "source": [
    "submission.isnull().sum()"
   ]
  },
  {
   "cell_type": "code",
   "execution_count": 267,
   "metadata": {
    "collapsed": true
   },
   "outputs": [],
   "source": [
    "submission.drop([\"Page\"], axis=1, inplace=True)"
   ]
  },
  {
   "cell_type": "code",
   "execution_count": 268,
   "metadata": {},
   "outputs": [
    {
     "data": {
      "text/plain": [
       "'weights/multyinput_BiLSTM_cat1_contin1_mse_nanto0_target_median_fixedY.h5'"
      ]
     },
     "execution_count": 268,
     "metadata": {},
     "output_type": "execute_result"
    }
   ],
   "source": [
    "MODEL_WEIGHTS_FILE"
   ]
  },
  {
   "cell_type": "code",
   "execution_count": 269,
   "metadata": {
    "collapsed": true
   },
   "outputs": [],
   "source": [
    "submission.to_csv(\"subm/{}.csv\".format(\"multyinput_BiLSTM_cat1_contin1_mse_nanto0_target_median_fixedY\"),index=False)"
   ]
  },
  {
   "cell_type": "code",
   "execution_count": 190,
   "metadata": {},
   "outputs": [
    {
     "name": "stdout",
     "output_type": "stream",
     "text": [
      "<class 'pandas.core.frame.DataFrame'>\n",
      "Int64Index: 8703780 entries, 0 to 8703779\n",
      "Data columns (total 2 columns):\n",
      "Id        object\n",
      "Visits    int64\n",
      "dtypes: int64(1), object(1)\n",
      "memory usage: 199.2+ MB\n"
     ]
    }
   ],
   "source": [
    "submission.info()"
   ]
  },
  {
   "cell_type": "code",
   "execution_count": 112,
   "metadata": {
    "collapsed": true
   },
   "outputs": [],
   "source": [
    "# from IPython.lib.display import FileLink\n",
    "# FileLink(\"subm/lstm_512_0.1.csv\")\n",
    "#submission via command line"
   ]
  },
  {
   "cell_type": "code",
   "execution_count": 191,
   "metadata": {
    "scrolled": true
   },
   "outputs": [
    {
     "data": {
      "text/plain": [
       "Id        00000004df28\n",
       "Visits               0\n",
       "dtype: object"
      ]
     },
     "execution_count": 191,
     "metadata": {},
     "output_type": "execute_result"
    }
   ],
   "source": [
    "submission.min()"
   ]
  },
  {
   "cell_type": "code",
   "execution_count": 202,
   "metadata": {},
   "outputs": [
    {
     "data": {
      "text/plain": [
       "((8551602,), (8703780,))"
      ]
     },
     "execution_count": 202,
     "metadata": {},
     "output_type": "execute_result"
    }
   ],
   "source": [
    "np.where(predicted_visists>0)[0].shape, predicted_visists.shape"
   ]
  },
  {
   "cell_type": "code",
   "execution_count": 204,
   "metadata": {},
   "outputs": [
    {
     "data": {
      "text/plain": [
       "<matplotlib.axes._subplots.AxesSubplot at 0x7fe00f572250>"
      ]
     },
     "execution_count": 204,
     "metadata": {},
     "output_type": "execute_result"
    },
    {
     "data": {
      "image/png": "[encoded data removed]",
      "text/plain": [
       "<matplotlib.figure.Figure at 0x7fe00f58ce50>"
      ]
     },
     "metadata": {},
     "output_type": "display_data"
    }
   ],
   "source": [
    "predicted_visists[np.where(predicted_visists>0)[0]].hist(bins=100)"
   ]
  },
  {
   "cell_type": "code",
   "execution_count": 206,
   "metadata": {},
   "outputs": [
    {
     "data": {
      "text/plain": [
       "(1194.813669692938, 138.0, 52752124, 0)"
      ]
     },
     "execution_count": 206,
     "metadata": {},
     "output_type": "execute_result"
    }
   ],
   "source": [
    "predicted_visists.mean(), predicted_visists.median(), predicted_visists.max(), predicted_visists.min()"
   ]
  },
  {
   "cell_type": "code",
   "execution_count": null,
   "metadata": {
    "collapsed": true
   },
   "outputs": [],
   "source": []
  }
 ],
 "metadata": {
  "kernelspec": {
   "display_name": "Python [conda root]",
   "language": "python",
   "name": "conda-root-py"
  },
  "language_info": {
   "codemirror_mode": {
    "name": "ipython",
    "version": 2
   },
   "file_extension": ".py",
   "mimetype": "text/x-python",
   "name": "python",
   "nbconvert_exporter": "python",
   "pygments_lexer": "ipython2",
   "version": "2.7.13"
  }
 },
 "nbformat": 4,
 "nbformat_minor": 2
}
